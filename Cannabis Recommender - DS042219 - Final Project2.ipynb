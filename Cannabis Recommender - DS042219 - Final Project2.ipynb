{
 "cells": [
  {
   "cell_type": "code",
   "execution_count": 485,
   "metadata": {},
   "outputs": [],
   "source": [
    "import requests\n",
    "from bs4 import BeautifulSoup\n",
    "import pandas as pd\n",
    "import pandas\n",
    "import urllib\n",
    "import re\n",
    "\n",
    "from selenium import webdriver\n",
    "from time import sleep\n",
    "from selenium.webdriver import ActionChains\n",
    "from selenium.webdriver.common.keys import Keys\n",
    "\n",
    "from selenium.common.exceptions import NoSuchElementException, WebDriverException\n",
    "\n",
    "import csv\n",
    "import time\n",
    "\n",
    "from tqdm import tqdm_notebook as tqdm\n",
    "\n",
    "import warnings\n",
    "warnings.filterwarnings('ignore')\n",
    "\n",
    "import matplotlib.pyplot as plt\n",
    "%matplotlib inline  \n",
    "\n",
    "import seaborn as sns\n",
    "\n",
    "from sklearn.model_selection import train_test_split\n",
    "from sklearn.neighbors import KNeighborsClassifier\n",
    "from sklearn.metrics import classification_report,confusion_matrix\n",
    "\n",
    "import pandas as pd\n",
    "from sodapy import Socrata\n",
    "\n",
    "import numpy as np\n",
    "import datetime\n",
    "\n",
    "import pandas as pd\n",
    "pd.set_option(\"display.max_columns\", 2200)\n",
    "pd.set_option(\"display.max_rows\", 200)\n",
    "import numpy as np\n",
    "import seaborn  as sns\n",
    "sns.set(style=\"whitegrid\")\n",
    "from sklearn.model_selection import train_test_split\n",
    "from sklearn.preprocessing import StandardScaler\n",
    "from matplotlib import pyplot as plt\n",
    "%matplotlib inline  \n",
    "from sklearn.feature_selection import SelectKBest, f_regression,mutual_info_regression\n",
    "from sklearn.feature_selection import RFECV\n",
    "from sklearn import linear_model\n",
    "from sklearn.metrics import make_scorer, accuracy_score, f1_score, precision_score, recall_score\n",
    "from sklearn.dummy import DummyClassifier\n",
    "from sklearn.linear_model import LogisticRegression\n",
    "from sklearn.utils import resample\n",
    "from imblearn.over_sampling import SMOTE\n",
    "from collections import Counter\n",
    "from imblearn.under_sampling import TomekLinks\n",
    "from sklearn.tree import DecisionTreeClassifier\n",
    "from sklearn.neighbors import KNeighborsClassifier\n",
    "from sklearn import metrics\n",
    "from sklearn.model_selection import GridSearchCV\n",
    "from sklearn.linear_model import LinearRegression \n",
    "from sklearn.model_selection import cross_val_score\n",
    "from sklearn.model_selection import KFold\n",
    "from itertools import combinations\n",
    "import re\n",
    "from sklearn.metrics import classification_report,confusion_matrix\n",
    "from sklearn.ensemble import BaggingClassifier, RandomForestClassifier\n",
    "#Ignore warnings\n",
    "import warnings\n",
    "warnings.filterwarnings('ignore')\n",
    "\n",
    "# Keeping track of runtime.\n",
    "import timeit\n",
    "\n",
    "# Decision trees\n",
    "from sklearn import tree\n",
    "from IPython.display import Image\n",
    "\n",
    "# Packages for rendering tree.\n",
    "import pydotplus\n",
    "import graphviz\n",
    "\n",
    "import itertools #(for confusion matrix)\n",
    "\n",
    "from sklearn.manifold import TSNE\n",
    "from nltk.tokenize import word_tokenize\n",
    "\n",
    "from sklearn.neighbors import NearestNeighbors\n",
    "\n",
    "from sklearn.metrics.pairwise import cosine_similarity\n",
    "from sklearn.feature_extraction.text import CountVectorizer\n"
   ]
  },
  {
   "cell_type": "code",
   "execution_count": 364,
   "metadata": {},
   "outputs": [],
   "source": [
    "pd.set_option('display.max_columns', None)\n",
    "pd.set_option('display.max_rows', None)"
   ]
  },
  {
   "cell_type": "code",
   "execution_count": null,
   "metadata": {},
   "outputs": [],
   "source": [
    "#A quick look at https://www.leafly.com/explore/page-61/sort-alpha shows \n",
    "#that this is the last page of strains\n",
    "pages = 61 \n",
    "websites = []\n",
    "strain_names = []\n",
    "\n",
    "for i in range(pages+1):\n",
    "    page_url = \"https://www.leafly.com/explore/page-\"+str(i)+\"/sort-alpha\"\n",
    "    html = requests.get(page_url).text\n",
    "    soup = BeautifulSoup(html,'html.parser')\n",
    "    urls = soup.findAll(\"a\",{\"class\":\"ga_Explore_Strain_Tile\"})\n",
    "        \n",
    "    for url in urls:\n",
    "        strain_name = url.get('href')\n",
    "        strain_names.append(strain_name)\n",
    "        website = (\"https://www.leafly.com\" + strain_name)\n",
    "        websites.append(website)"
   ]
  },
  {
   "cell_type": "code",
   "execution_count": null,
   "metadata": {},
   "outputs": [],
   "source": [
    "#create url df\n",
    "url_df = pd.DataFrame(websites, columns = ['url'])"
   ]
  },
  {
   "cell_type": "code",
   "execution_count": null,
   "metadata": {},
   "outputs": [],
   "source": [
    "#create url csv\n",
    "url_df.to_csv('urls.csv')"
   ]
  },
  {
   "cell_type": "code",
   "execution_count": null,
   "metadata": {},
   "outputs": [],
   "source": [
    "#create strain_names csv\n",
    "strains_df = pd.DataFrame(strain_names, columns = ['strain_name'])"
   ]
  },
  {
   "cell_type": "code",
   "execution_count": null,
   "metadata": {},
   "outputs": [],
   "source": [
    "#create strain_names csv\n",
    "strains_df.to_csv('strains.csv')"
   ]
  },
  {
   "cell_type": "code",
   "execution_count": null,
   "metadata": {},
   "outputs": [],
   "source": [
    "#parse strain_name:\n",
    "parsed =[]\n",
    "for words in strains_df['strain_name']:\n",
    "    parse = re.findall(r\"[\\w']+\", words)\n",
    "    parsed.append(parse)"
   ]
  },
  {
   "cell_type": "code",
   "execution_count": null,
   "metadata": {},
   "outputs": [],
   "source": [
    "#create name and strain df\n",
    "\n",
    "strain_type_df = pd.DataFrame(parsed, columns = ['strain', 'name1', 'name2',\n",
    "                                    'name3', 'name4', 'name5', 'name6'])"
   ]
  },
  {
   "cell_type": "code",
   "execution_count": null,
   "metadata": {},
   "outputs": [],
   "source": [
    "#drop last 5 columns - just fillers\n",
    "strain_type_df.drop(df.tail(5).index,inplace=True)"
   ]
  },
  {
   "cell_type": "code",
   "execution_count": null,
   "metadata": {},
   "outputs": [],
   "source": [
    "#merge name columns\n",
    "strain_type_df['name'] = strain_type_df[strain_type_df.columns[1:]].apply(\n",
    "    lambda x: ' '.join(x.dropna().astype(str)),\n",
    "    axis=1)"
   ]
  },
  {
   "cell_type": "code",
   "execution_count": null,
   "metadata": {},
   "outputs": [],
   "source": [
    "#drop unnecessary columns\n",
    "strain_type_df.drop(['name1', 'name2', 'name3', 'name4', 'name5', 'name6'], axis=1, inplace=True)"
   ]
  },
  {
   "cell_type": "code",
   "execution_count": null,
   "metadata": {},
   "outputs": [],
   "source": [
    "strain_type_df.to_csv('strain_type.csv')"
   ]
  },
  {
   "cell_type": "code",
   "execution_count": null,
   "metadata": {},
   "outputs": [],
   "source": [
    "#number of duplicates\n",
    "df['name'].duplicated().sum()"
   ]
  },
  {
   "cell_type": "code",
   "execution_count": null,
   "metadata": {},
   "outputs": [],
   "source": [
    "url_df['url'].duplicated().sum()"
   ]
  },
  {
   "cell_type": "code",
   "execution_count": null,
   "metadata": {},
   "outputs": [],
   "source": [
    "url_df.drop_duplicates(inplace=True)"
   ]
  },
  {
   "cell_type": "code",
   "execution_count": null,
   "metadata": {},
   "outputs": [],
   "source": [
    "url_df.reset_index()"
   ]
  },
  {
   "cell_type": "code",
   "execution_count": null,
   "metadata": {},
   "outputs": [],
   "source": [
    "len(url_df)"
   ]
  },
  {
   "cell_type": "code",
   "execution_count": null,
   "metadata": {},
   "outputs": [],
   "source": [
    "#breaking down scraping into smaller buckets\n",
    "\n",
    "urls_to_200 = urls_df['url'][:200]          #soups\n",
    "urls_to_700 = urls_df['url'][200:700]       #soups_to_700\n",
    "urls_to_1200 = urls_df['url'][700:1200]     #soups_to_1200\n",
    "urls_to_1700 = urls_df['url'][1200:1700]    #soups_to_1700\n",
    "urls_to_2200 = urls_df['url'][1700:2200]    #soups_to_2200\n",
    "urls_to_2700 = urls_df['url'][2200:2700]    #soups_to_2700\n",
    "urls_to_end = urls_df['url'][2700:]         #soups_to_end\n",
    "\n",
    "#scraping all at once\n",
    "urls_total = urls_df['url']                 #soups_total"
   ]
  },
  {
   "cell_type": "code",
   "execution_count": null,
   "metadata": {},
   "outputs": [],
   "source": [
    "#scrape individual strain pages\n",
    "\n",
    "soups_total = []\n",
    "\n",
    "for url in urls_total:\n",
    "    html = requests.get(url).text\n",
    "    soup = BeautifulSoup(html,'html.parser')\n",
    "    soups_total.append(soup)\n",
    "    time.sleep(1)"
   ]
  },
  {
   "cell_type": "code",
   "execution_count": null,
   "metadata": {},
   "outputs": [],
   "source": [
    "# with open(\"soups_total.html\", \"w\") as file:\n",
    "#     file.write(str(soups_total))"
   ]
  },
  {
   "cell_type": "markdown",
   "metadata": {},
   "source": [
    "### Get Features From Tags"
   ]
  },
  {
   "cell_type": "code",
   "execution_count": null,
   "metadata": {},
   "outputs": [],
   "source": [
    "#use this one\n",
    "\n",
    "#collect positive effects\n",
    "\n",
    "effect = []\n",
    "filename1 = \"effect.csv\"\n",
    "\n",
    "for i in tqdm(range(0, len(soups_total))): \n",
    "    names = []\n",
    "    cont = soups_total[i].find(\"a\",{\"class\":\"active\"})  \n",
    "    names.append(cont)\n",
    "    try:\n",
    "        for name in names:\n",
    "            strain_name = name.get('href') \n",
    "            strain = strain_name.split('/')\n",
    "        div = soups_total[i].find('div', {'id': 'effects-tab-content'})\n",
    "        first_child = div.findChildren('div', {'class': \"histogram-label\"})\n",
    "        try:\n",
    "            if len(first_child) == 5:\n",
    "                key = strain[2]\n",
    "                values = [first_child[0].text, first_child[1].text, \n",
    "                    first_child[2].text, first_child[3].text, \n",
    "                        first_child[4].text]\n",
    "                par = {key:values}\n",
    "            \n",
    "            elif len(first_child) == 4:\n",
    "                key = strain[2]\n",
    "                values = [first_child[0].text, first_child[1].text, \n",
    "                          first_child[2].text, first_child[3].text]\n",
    "                par = {key:values}\n",
    "            \n",
    "            elif len(first_child) == 3:\n",
    "                key = strain[2]\n",
    "                values = [first_child[0].text, first_child[1].text, \n",
    "                          first_child[2].text]\n",
    "                par = {key:values}\n",
    "            \n",
    "            elif len(first_child) == 2:\n",
    "                key = strain[2]\n",
    "                values = [first_child[0].text, first_child[1].text]\n",
    "                par = {key:values}\n",
    "            \n",
    "            elif len(first_child) == 1:\n",
    "                key = strain[2]\n",
    "                values = [first_child[0].text]\n",
    "                par = {key:values}\n",
    "            \n",
    "            else:\n",
    "                key = strain[2]\n",
    "                values = None\n",
    "                par = {key:values}       \n",
    "        except:\n",
    "            key = strain[2]\n",
    "            values = None\n",
    "            par = {key:values}\n",
    "    except:\n",
    "        key = strain[2]\n",
    "        values = None\n",
    "        par = {key:values}\n",
    "    \n",
    "        \n",
    "    effect.append(par)\n",
    "\n",
    "df_effect = pd.DataFrame(effect)\n",
    "df_effect.to_csv(filename1)\n",
    "\n",
    "#collect medical attributes\n",
    "\n",
    "med = []\n",
    "filename2 = \"med.csv\"\n",
    "\n",
    "for i in tqdm(range(0, len(soups_total))): \n",
    "    names = []\n",
    "    cont = soups_total[i].find(\"a\",{\"class\":\"active\"})  \n",
    "    names.append(cont)\n",
    "    try:\n",
    "        for name in names:\n",
    "            strain_name = name.get('href') \n",
    "            strain = strain_name.split('/')\n",
    "        div = soups_total[i].find('div', {'id': 'medical-tab-content'})\n",
    "        first_child = div.findChildren('div', {'class': \"histogram-label\"})\n",
    "        try:\n",
    "            if len(first_child) == 5:\n",
    "                key = strain[2]\n",
    "                values = [first_child[0].text, first_child[1].text, \n",
    "                    first_child[2].text, first_child[3].text, \n",
    "                        first_child[4].text]\n",
    "                par = {key:values}\n",
    "            \n",
    "            elif len(first_child) == 4:\n",
    "                key = strain[2]\n",
    "                values = [first_child[0].text, first_child[1].text, \n",
    "                          first_child[2].text, first_child[3].text]\n",
    "                par = {key:values}\n",
    "            \n",
    "            elif len(first_child) == 3:\n",
    "                key = strain[2]\n",
    "                values = [first_child[0].text, first_child[1].text, \n",
    "                          first_child[2].text]\n",
    "                par = {key:values}\n",
    "            \n",
    "            elif len(first_child) == 2:\n",
    "                key = strain[2]\n",
    "                values = [first_child[0].text, first_child[1].text]\n",
    "                par = {key:values}\n",
    "            \n",
    "            elif len(first_child) == 1:\n",
    "                key = strain[2]\n",
    "                values = [first_child[0].text]\n",
    "                par = {key:values}\n",
    "            \n",
    "            else:\n",
    "                key = strain[2]\n",
    "                values = None\n",
    "                par = {key:values}       \n",
    "        except:\n",
    "            key = strain[2]\n",
    "            values = None\n",
    "            par = {key:values}\n",
    "    except:\n",
    "        key = strain[2]\n",
    "        values = None\n",
    "        par = {key:values}\n",
    "    \n",
    "        \n",
    "    med.append(par)\n",
    "\n",
    "df_med = pd.DataFrame(med)\n",
    "df_med.to_csv(filename2)\n",
    "\n",
    "#collect negative attributes\n",
    "\n",
    "neg = []\n",
    "filename3 = \"neg.csv\"\n",
    "\n",
    "for i in tqdm(range(0, len(soups_total))): \n",
    "    names = []\n",
    "    cont = soups_total[i].find(\"a\",{\"class\":\"active\"})  \n",
    "    names.append(cont)\n",
    "    try:\n",
    "        for name in names:\n",
    "            strain_name = name.get('href') \n",
    "            strain = strain_name.split('/')\n",
    "        div = soups_total[i].find('div', {'id': 'negatives-tab-content'})\n",
    "        first_child = div.findChildren('div', {'class': \"histogram-label\"})\n",
    "        try:\n",
    "            if len(first_child) == 5:\n",
    "                key = strain[2]\n",
    "                values = [first_child[0].text, first_child[1].text, \n",
    "                    first_child[2].text, first_child[3].text, \n",
    "                        first_child[4].text]\n",
    "                par = {key:values}\n",
    "            \n",
    "            elif len(first_child) == 4:\n",
    "                key = strain[2]\n",
    "                values = [first_child[0].text, first_child[1].text, \n",
    "                          first_child[2].text, first_child[3].text]\n",
    "                par = {key:values}\n",
    "            \n",
    "            elif len(first_child) == 3:\n",
    "                key = strain[2]\n",
    "                values = [first_child[0].text, first_child[1].text, \n",
    "                          first_child[2].text]\n",
    "                par = {key:values}\n",
    "            \n",
    "            elif len(first_child) == 2:\n",
    "                key = strain[2]\n",
    "                values = [first_child[0].text, first_child[1].text]\n",
    "                par = {key:values}\n",
    "            \n",
    "            elif len(first_child) == 1:\n",
    "                key = strain[2]\n",
    "                values = [first_child[0].text]\n",
    "                par = {key:values}\n",
    "            \n",
    "            else:\n",
    "                key = strain[2]\n",
    "                values = None\n",
    "                par = {key:values}       \n",
    "        except:\n",
    "            key = strain[2]\n",
    "            values = None\n",
    "            par = {key:values}\n",
    "    except:\n",
    "        key = strain[2]\n",
    "        values = None\n",
    "        par = {key:values}\n",
    "    \n",
    "        \n",
    "    neg.append(par)\n",
    "\n",
    "df_neg = pd.DataFrame(neg)\n",
    "df_neg.to_csv(filename3)\n",
    "\n",
    "#collect flavors\n",
    "\n",
    "flavors = []\n",
    "filename4 = \"flavors.csv\"\n",
    "\n",
    "for i in tqdm(range(0, len(soups_total))): \n",
    "    names = []\n",
    "    cont = soups_total[i].find(\"a\",{\"class\":\"active\"})  \n",
    "    names.append(cont)\n",
    "    try:\n",
    "        for name in names:\n",
    "            strain_name = name.get('href')\n",
    "            strain = strain_name.split('/')\n",
    "        first_child = soups_total[i].findAll('div',attrs={\"class\" : \"flavor-name\"})\n",
    "        try:\n",
    "            if len(first_child) == 3:\n",
    "                key = strain[2]\n",
    "                values = [first_child[0].text, first_child[1].text, \n",
    "                        first_child[2].text]\n",
    "                par = {key:values}\n",
    "            elif len(first_child) == 2:\n",
    "                key = strain[2]\n",
    "                values = [first_child[0].text, first_child[1].text]\n",
    "                par = {key:values}\n",
    "            elif len(first_child) == 1:\n",
    "                key = strain[2]\n",
    "                values = [first_child[0].text]\n",
    "                par = {key:values}\n",
    "            else:\n",
    "                key = strain[2]\n",
    "                values = None\n",
    "                par = {key:values}       \n",
    "        except:\n",
    "            key = strain[2]\n",
    "            values = None\n",
    "            par = {key:values}\n",
    "    except:\n",
    "        key = strain[2]\n",
    "        values = None\n",
    "        par = {key:values}\n",
    "    \n",
    "        \n",
    "    flavors.append(par)\n",
    "\n",
    "df_flavors = pd.DataFrame(flavors)\n",
    "df_flavors.to_csv(filename4)  \n",
    "\n",
    "# #collect parents of strains\n",
    "\n",
    "# parents = []\n",
    "\n",
    "# filename5 = 'parents.csv'\n",
    "\n",
    "# for i in tqdm(range(0, len(soups_total))): \n",
    "#     children = soups_total[i].findAll('div',attrs={\"class\" : \"strain-tile-footer\"})\n",
    "#     try:\n",
    "#         if len(children) == 3:\n",
    "#             key = children[0].text\n",
    "#             values = [children[1].text, children[2].text]\n",
    "#             par = {key:values}\n",
    "#         elif len(children) == 2:\n",
    "#             key = children[0].text\n",
    "#             values = children[1].text\n",
    "#             par = {key:values}        \n",
    "#         else:\n",
    "#             key = children[0].text\n",
    "#             values = None\n",
    "#             par = {key:values}\n",
    "#     except:\n",
    "#         None\n",
    "#         #print(\"can't find that page\")\n",
    "    \n",
    "#     parents.append(par)\n",
    "   \n",
    "\n",
    "# df_parents = pd.DataFrame(parents)\n",
    "# df_parents.to_csv(filename5)"
   ]
  },
  {
   "cell_type": "code",
   "execution_count": null,
   "metadata": {},
   "outputs": [],
   "source": [
    "with open('soups_total.html', 'r') as f:\n",
    "    html = f.read()\n",
    "soups_total = BeautifulSoup(html,'html.parser')"
   ]
  },
  {
   "cell_type": "markdown",
   "metadata": {},
   "source": [
    "### Import CSVs"
   ]
  },
  {
   "cell_type": "code",
   "execution_count": 3,
   "metadata": {},
   "outputs": [],
   "source": [
    "#import categories - hybrid, sativa, indica\n",
    "cat_df = pd.read_csv('strain_category.csv')\n",
    "\n",
    "#import flavors\n",
    "flav_df = pd.read_csv('flavors.csv')\n",
    "\n",
    "#import parents\n",
    "par_df = pd.read_csv('parents.csv')\n",
    "\n",
    "#import effects\n",
    "eff_df = pd.read_csv('effect.csv')\n",
    "\n",
    "#import medical\n",
    "med_df = pd.read_csv('med.csv')\n",
    "\n",
    "#import negative\n",
    "neg_df = pd.read_csv('neg.csv')"
   ]
  },
  {
   "cell_type": "markdown",
   "metadata": {},
   "source": [
    "### Pivot Tables/Table Formatting"
   ]
  },
  {
   "cell_type": "code",
   "execution_count": 4,
   "metadata": {},
   "outputs": [],
   "source": [
    "#drop first column\n",
    "def drop_column(df):\n",
    "    df.drop('Unnamed: 0', axis=1, inplace=True)"
   ]
  },
  {
   "cell_type": "code",
   "execution_count": 5,
   "metadata": {},
   "outputs": [],
   "source": [
    "drop_column(flav_df)\n",
    "drop_column(par_df)\n",
    "drop_column(eff_df)\n",
    "drop_column(med_df)\n",
    "drop_column(neg_df)\n",
    "drop_column(cat_df)"
   ]
  },
  {
   "cell_type": "code",
   "execution_count": 6,
   "metadata": {},
   "outputs": [],
   "source": [
    "#pivot tables so that column names are now indices\n",
    "flav_series = flav_df.stack()\n",
    "par_series = par_df.stack()\n",
    "eff_series = eff_df.stack()\n",
    "med_series = med_df.stack()\n",
    "neg_series = neg_df.stack()\n",
    "\n",
    "#convert from series to dataframe\n",
    "flav_df = flav_series.to_frame(name='flavor')\n",
    "par_df = par_series.to_frame(name='parent')\n",
    "eff_df = eff_series.to_frame(name='effect')\n",
    "med_df = med_series.to_frame(name='medical')\n",
    "neg_df = neg_series.to_frame(name='negative')\n",
    "\n",
    "#dataframe cleanup\n",
    "def reset_index(df):\n",
    "    df.reset_index(inplace=True)\n",
    "    df.drop('level_0', axis=1, inplace=True)\n",
    "    df.rename(columns={'level_1':'strain'}, inplace=True)"
   ]
  },
  {
   "cell_type": "code",
   "execution_count": 7,
   "metadata": {},
   "outputs": [],
   "source": [
    "reset_index(flav_df)\n",
    "reset_index(par_df)\n",
    "reset_index(eff_df)\n",
    "reset_index(med_df)\n",
    "reset_index(neg_df)"
   ]
  },
  {
   "cell_type": "code",
   "execution_count": 8,
   "metadata": {},
   "outputs": [],
   "source": [
    "#cat_df.reset_index('name', inplace=True)\n",
    "cat_df.rename(columns={'strain':'category'}, inplace=True)\n",
    "cat_df.rename(columns={'name':'strain'}, inplace=True)\n",
    "\n",
    "#remove $ from parents table\n",
    "par_df['strain'] = [x.strip('$') for x in par_df.strain]\n",
    "\n",
    "#make all entries lowercase\n",
    "flav_df = flav_df.apply(lambda x: x.astype(str).str.lower())\n",
    "par_df = par_df.apply(lambda x: x.astype(str).str.lower())\n",
    "eff_df = eff_df.apply(lambda x: x.astype(str).str.lower())\n",
    "med_df = med_df.apply(lambda x: x.astype(str).str.lower())\n",
    "neg_df = neg_df.apply(lambda x: x.astype(str).str.lower())\n",
    "cat_df = cat_df.apply(lambda x: x.astype(str).str.lower())\n",
    "\n",
    "\n",
    "#replace - with space in all tables\n",
    "flav_df['strain'] = flav_df['strain'].str.replace('-',' ')\n",
    "par_df['strain'] = par_df['strain'].str.replace('-',' ')\n",
    "eff_df['strain'] = eff_df['strain'].str.replace('-',' ')\n",
    "med_df['strain'] = med_df['strain'].str.replace('-',' ')\n",
    "neg_df['strain'] = neg_df['strain'].str.replace('-',' ')\n",
    "cat_df['strain'] = cat_df['strain'].str.replace('-',' ')\n",
    "\n",
    "\n",
    "# #make all data lowercase\n",
    "# def lowercase(df):\n",
    "#     df = df.apply(lambda x: x.astype(str).str.lower())\n",
    "#     return\n",
    "    \n",
    "# #replace dash with space in all tables\n",
    "# def replace_dash(df, column):\n",
    "#     df[column] = df[column].str.replace('-',' ')\n",
    "#     return"
   ]
  },
  {
   "cell_type": "code",
   "execution_count": 9,
   "metadata": {},
   "outputs": [],
   "source": [
    "def remove_char(df, column):\n",
    "    df[column] = df[column].str.replace('[',' ')\n",
    "    df[column] = df[column].str.replace(']',' ')\n",
    "    df[column] = df[column].str.replace(\"'\",'')\n",
    "    \n",
    "\n",
    "def new_columns_5(df, column):    \n",
    "    \n",
    "    # new data frame with split value columns \n",
    "    # making separate first flavor from new data frame \n",
    "    new1 = df[column].str.split(',', n = 1, expand = True)   \n",
    "    df[str(column) + '_1'] = new1[0] \n",
    "    df[str(column) + '_2'] = new1[1]\n",
    "\n",
    "\n",
    "    new2 = df[str(column) + '_2'].str.split(',', n = 1, expand = True)  \n",
    "    df[str(column) + '_2']= new2[0] \n",
    "    df[str(column) + '_3']= new2[1] \n",
    "  \n",
    "    new3 = df[str(column) + '_3'].str.split(',', n = 1, expand = True)\n",
    "    df[str(column) + '_3']= new3[0]\n",
    "    df[str(column) + '_4']= new3[1]\n",
    "\n",
    "\n",
    "    new4 = df[str(column) + '_4'].str.split(',', n = 1, expand = True)\n",
    "    df[str(column) + '_4']= new4[0]\n",
    "    df[str(column) + '_5']= new4[1]\n",
    "\n",
    "\n",
    "    #dropping old name columns \n",
    "    df.drop(columns =[column], inplace = True) \n",
    "    \n",
    "def new_columns_3(df, column):    \n",
    "    \n",
    "    # new data frame with split value columns \n",
    "    # making separate first flavor from new data frame \n",
    "    new1 = df[column].str.split(',', n = 1, expand = True)   \n",
    "    df[str(column) + '_1'] = new1[0] \n",
    "    df[str(column) + '_2'] = new1[1]\n",
    "\n",
    "\n",
    "    new2 = df[str(column) + '_2'].str.split(',', n = 1, expand = True)  \n",
    "    df[str(column) + '_2']= new2[0] \n",
    "    df[str(column) + '_3']= new2[1] \n",
    "  \n",
    "    new3 = df[str(column) + '_3'].str.split(',', n = 1, expand = True)\n",
    "    df[str(column) + '_3']= new3[0]\n",
    "\n",
    "    #dropping old name columns \n",
    "    df.drop(columns =[column], inplace = True) \n",
    "    \n",
    "def new_columns_2(df, column):    \n",
    "    \n",
    "    # new data frame with split value columns \n",
    "    # making separate first flavor from new data frame \n",
    "    new1 = df[column].str.split(',', n = 1, expand = True)   \n",
    "    df[str(column) + '_1'] = new1[0] \n",
    "    df[str(column) + '_2'] = new1[1]\n",
    "\n",
    "    #dropping old name columns \n",
    "    df.drop(columns =[column], inplace = True)"
   ]
  },
  {
   "cell_type": "code",
   "execution_count": 10,
   "metadata": {},
   "outputs": [],
   "source": [
    "remove_char(flav_df, 'flavor')\n",
    "remove_char(par_df, 'parent')\n",
    "remove_char(eff_df, 'effect')\n",
    "remove_char(med_df, 'medical')\n",
    "remove_char(neg_df, 'negative')\n",
    "remove_char(cat_df, 'category')"
   ]
  },
  {
   "cell_type": "code",
   "execution_count": 11,
   "metadata": {},
   "outputs": [],
   "source": [
    "new_columns_5(eff_df, 'effect')\n",
    "new_columns_5(med_df, 'medical')\n",
    "new_columns_5(neg_df, 'negative')"
   ]
  },
  {
   "cell_type": "code",
   "execution_count": 12,
   "metadata": {},
   "outputs": [],
   "source": [
    "new_columns_3(flav_df, 'flavor')\n",
    "new_columns_2(par_df, 'parent')"
   ]
  },
  {
   "cell_type": "code",
   "execution_count": 13,
   "metadata": {},
   "outputs": [],
   "source": [
    "par_df['strain'] = par_df['strain'].str.replace(\"'\",'')"
   ]
  },
  {
   "cell_type": "markdown",
   "metadata": {},
   "source": [
    "### Create Final Merged Dataframe"
   ]
  },
  {
   "cell_type": "code",
   "execution_count": 16,
   "metadata": {},
   "outputs": [],
   "source": [
    "#create properly formatted csvs\n",
    "\n",
    "flav_final_df = pd.DataFrame(flav_df)\n",
    "flav_final_df.to_csv('flav_final_df.csv')\n",
    "\n",
    "par_final_df = pd.DataFrame(par_df)\n",
    "par_final_df.to_csv('par_final_df.csv')\n",
    "\n",
    "eff_final_df = pd.DataFrame(eff_df)\n",
    "eff_final_df.to_csv('eff_final_df.csv')\n",
    "\n",
    "med_final_df = pd.DataFrame(med_df)\n",
    "med_final_df.to_csv('med_final_df.csv')\n",
    "\n",
    "neg_final_df = pd.DataFrame(neg_df)\n",
    "neg_final_df.to_csv('neg_final_df.csv')\n",
    "\n",
    "cat_final_df = pd.DataFrame(cat_df)\n",
    "cat_final_df.to_csv('cat_final_df.csv')"
   ]
  },
  {
   "cell_type": "code",
   "execution_count": 17,
   "metadata": {},
   "outputs": [],
   "source": [
    "#import final csvs\n",
    "\n",
    "flav_df = pd.read_csv('flav_final_df.csv')\n",
    "par_df = pd.read_csv('par_final_df.csv')\n",
    "eff_df = pd.read_csv('eff_final_df.csv')\n",
    "med_df = pd.read_csv('med_final_df.csv')\n",
    "neg_df = pd.read_csv('neg_final_df.csv')\n",
    "cat_df = pd.read_csv('cat_final_df.csv')"
   ]
  },
  {
   "cell_type": "code",
   "execution_count": 18,
   "metadata": {},
   "outputs": [],
   "source": [
    "#create master dataframe\n",
    "drop_column(flav_df)\n",
    "drop_column(par_df)\n",
    "drop_column(eff_df)\n",
    "drop_column(med_df)\n",
    "drop_column(neg_df)\n",
    "drop_column(cat_df)\n",
    "\n",
    "final_df = pd.merge(cat_df, eff_df, how='outer')\n",
    "final_df.drop_duplicates(inplace=True)\n",
    "final_df = pd.merge(final_df, med_df, how='outer')\n",
    "final_df.drop_duplicates(inplace=True)\n",
    "final_df = pd.merge(final_df, neg_df, how='outer')\n",
    "final_df.drop_duplicates(inplace=True)\n",
    "final_df = pd.merge(final_df, flav_df, how='outer')\n",
    "final_df.drop_duplicates(inplace=True)\n",
    "final_df = pd.merge(final_df, par_df, how='outer')\n",
    "final_df.drop_duplicates(inplace=True)\n",
    "\n",
    "final_df.to_csv('final_df.csv')"
   ]
  },
  {
   "cell_type": "code",
   "execution_count": 289,
   "metadata": {},
   "outputs": [],
   "source": [
    "total_reviews = pd.read_csv('total_reviews.csv')"
   ]
  },
  {
   "cell_type": "code",
   "execution_count": 292,
   "metadata": {},
   "outputs": [],
   "source": [
    "final_df = pd.merge(final_df, total_reviews, how='outer')"
   ]
  },
  {
   "cell_type": "code",
   "execution_count": 294,
   "metadata": {},
   "outputs": [],
   "source": [
    "final_df.drop('Unnamed: 0', axis=1, inplace=True)"
   ]
  },
  {
   "cell_type": "code",
   "execution_count": 297,
   "metadata": {},
   "outputs": [],
   "source": [
    "final_df.drop_duplicates(inplace=True)"
   ]
  },
  {
   "cell_type": "code",
   "execution_count": 303,
   "metadata": {},
   "outputs": [],
   "source": [
    "# final_df.to_csv('final_df.csv')"
   ]
  },
  {
   "cell_type": "code",
   "execution_count": 516,
   "metadata": {},
   "outputs": [],
   "source": [
    "final_df = pd.read_csv('final_df.csv')"
   ]
  },
  {
   "cell_type": "code",
   "execution_count": 518,
   "metadata": {},
   "outputs": [],
   "source": [
    "final_df.drop('parent_1', axis=1, inplace=True)"
   ]
  },
  {
   "cell_type": "code",
   "execution_count": 519,
   "metadata": {},
   "outputs": [],
   "source": [
    "final_df.drop('parent_2', axis=1, inplace=True)"
   ]
  },
  {
   "cell_type": "code",
   "execution_count": 512,
   "metadata": {},
   "outputs": [],
   "source": [
    "master_parent = pd.read_csv('master_parent.csv')"
   ]
  },
  {
   "cell_type": "code",
   "execution_count": 521,
   "metadata": {},
   "outputs": [],
   "source": [
    "final_df = pd.merge(final_df, master_parent, on='strain')"
   ]
  },
  {
   "cell_type": "code",
   "execution_count": 525,
   "metadata": {},
   "outputs": [],
   "source": [
    "final_df.drop('Unnamed: 0_y', axis=1, inplace=True)"
   ]
  },
  {
   "cell_type": "code",
   "execution_count": 527,
   "metadata": {},
   "outputs": [],
   "source": [
    "final_df.drop('Unnamed: 0_x', axis=1, inplace=True)"
   ]
  },
  {
   "cell_type": "code",
   "execution_count": 530,
   "metadata": {},
   "outputs": [],
   "source": [
    "final_df.drop_duplicates(inplace=True)"
   ]
  },
  {
   "cell_type": "code",
   "execution_count": 533,
   "metadata": {},
   "outputs": [],
   "source": [
    "# final_df.to_csv('master_final.csv')"
   ]
  },
  {
   "cell_type": "code",
   "execution_count": null,
   "metadata": {},
   "outputs": [],
   "source": [
    "\"\"\" I needed to rescrape to get additional information and in the process my ip got blocked.\n",
    "    I moved to working in smaller scrape batches. I then needed to append each of my smaller\n",
    "    batches into a master table. \"\"\""
   ]
  },
  {
   "cell_type": "code",
   "execution_count": 80,
   "metadata": {},
   "outputs": [],
   "source": [
    "urls = pd.read_csv('urls.csv')"
   ]
  },
  {
   "cell_type": "code",
   "execution_count": 194,
   "metadata": {},
   "outputs": [],
   "source": [
    "urls_list = urls['url']"
   ]
  },
  {
   "cell_type": "code",
   "execution_count": 423,
   "metadata": {},
   "outputs": [],
   "source": [
    "#urls_to_156 = urls_list[:156]                  #parents1.csv\n",
    "#urls_156_to_312 = urls_list[156:312]           #parents2.csv\n",
    "#urls_312_to_468 = urls_list[312:468]           #parents3.csv\n",
    "#urls_468_to_624 = urls_list[468:624]           #parents4.csv\n",
    "#urls_624_to_780 = urls_list[624:780]           #parents5.csv\n",
    "#urls_780_to_936 = urls_list[780:936]            #parents6.csv\n",
    "#urls_936_to_1092 = urls_list[936:1092]          #parents7.csv\n",
    "#urls_1092_to_1248 = urls_list[1092:1248]        #parents8.csv\n",
    "#urls_1248_to_1404 = urls_list[1248:1404]        #parents9.csv\n",
    "#urls_1404_to_1560 = urls_list[1404:1560]        #parents10.csv\n",
    "urls_1560_to_1716 = urls_list[1560:1716]        #parents11.csv\n",
    "urls_1716_to_1872 = urls_list[1716:1872]        #parents12.csv\n",
    "urls_1872_to_2028 = urls_list[1872:2028]        #parents13.csv\n",
    "urls_2028_to_2184 = urls_list[2028:2184]        #parents14.csv\n",
    "urls_2184_to_2340 = urls_list[2184:2340]        #parents15.csv\n",
    "urls_2340_to_2496 = urls_list[2340:2496]        #parents16.csv\n",
    "urls_2496_to_2652 = urls_list[2496:2652]        #parents17.csv\n",
    "urls_2652_to_2808 = urls_list[2652:2808]        #parents18.csv\n",
    "urls_2808_to_2964 = urls_list[2808:2964]        #parents19.csv\n",
    "urls_2964_to_3120 = urls_list[2964:3120]        #parents20.csv\n",
    "urls_3120_to_3276 = urls_list[3120:3276]        #parents21.csv\n",
    "urls_3276_to_3432 = urls_list[3276:]            #parents22.csv\n",
    "\n",
    "\n",
    "#urls_1560_to_2060 = urls_list[1560:2060]         #parents11.csv\n",
    "#urls_2060_to_2560 = urls_list[2060:2560]         #parents12.csv\n",
    "#urls_2560_to_3060 = urls_list[2560:3060]         #parents13.csv\n",
    "#urls_3060_to_end = urls_list[3060:]              #parents14.csv"
   ]
  },
  {
   "cell_type": "code",
   "execution_count": 253,
   "metadata": {
    "collapsed": true
   },
   "outputs": [
    {
     "data": {
      "application/vnd.jupyter.widget-view+json": {
       "model_id": "8a12ca55e7ee4253a964f67a346c682a",
       "version_major": 2,
       "version_minor": 0
      },
      "text/plain": [
       "HBox(children=(IntProgress(value=0, max=3460), HTML(value='')))"
      ]
     },
     "metadata": {},
     "output_type": "display_data"
    },
    {
     "ename": "TypeError",
     "evalue": "append() takes exactly one argument (2 given)",
     "output_type": "error",
     "traceback": [
      "\u001b[0;31m---------------------------------------------------------------------------\u001b[0m",
      "\u001b[0;31mAttributeError\u001b[0m                            Traceback (most recent call last)",
      "\u001b[0;32m<ipython-input-253-e32117ba2491>\u001b[0m in \u001b[0;36m<module>\u001b[0;34m\u001b[0m\n\u001b[1;32m     18\u001b[0m         \u001b[0mparent\u001b[0m \u001b[0;34m=\u001b[0m \u001b[0msoup\u001b[0m\u001b[0;34m.\u001b[0m\u001b[0mfindAll\u001b[0m\u001b[0;34m(\u001b[0m\u001b[0;34m'div'\u001b[0m\u001b[0;34m,\u001b[0m\u001b[0mattrs\u001b[0m\u001b[0;34m=\u001b[0m\u001b[0;34m{\u001b[0m\u001b[0;34m\"class\"\u001b[0m \u001b[0;34m:\u001b[0m \u001b[0;34m\"strain-tile-footer\"\u001b[0m\u001b[0;34m}\u001b[0m\u001b[0;34m)\u001b[0m\u001b[0;34m\u001b[0m\u001b[0;34m\u001b[0m\u001b[0m\n\u001b[0;32m---> 19\u001b[0;31m         \u001b[0mparents\u001b[0m\u001b[0;34m.\u001b[0m\u001b[0mappend\u001b[0m\u001b[0;34m(\u001b[0m\u001b[0mparent\u001b[0m\u001b[0;34m.\u001b[0m\u001b[0mtext\u001b[0m\u001b[0;34m)\u001b[0m\u001b[0;34m\u001b[0m\u001b[0;34m\u001b[0m\u001b[0m\n\u001b[0m\u001b[1;32m     20\u001b[0m     \u001b[0;32mexcept\u001b[0m\u001b[0;34m:\u001b[0m\u001b[0;34m\u001b[0m\u001b[0;34m\u001b[0m\u001b[0m\n",
      "\u001b[0;32m/anaconda3/lib/python3.7/site-packages/bs4/element.py\u001b[0m in \u001b[0;36m__getattr__\u001b[0;34m(self, key)\u001b[0m\n\u001b[1;32m   1619\u001b[0m         raise AttributeError(\n\u001b[0;32m-> 1620\u001b[0;31m             \u001b[0;34m\"ResultSet object has no attribute '%s'. You're probably treating a list of items like a single item. Did you call find_all() when you meant to call find()?\"\u001b[0m \u001b[0;34m%\u001b[0m \u001b[0mkey\u001b[0m\u001b[0;34m\u001b[0m\u001b[0;34m\u001b[0m\u001b[0m\n\u001b[0m\u001b[1;32m   1621\u001b[0m         )\n",
      "\u001b[0;31mAttributeError\u001b[0m: ResultSet object has no attribute 'text'. You're probably treating a list of items like a single item. Did you call find_all() when you meant to call find()?",
      "\nDuring handling of the above exception, another exception occurred:\n",
      "\u001b[0;31mTypeError\u001b[0m                                 Traceback (most recent call last)",
      "\u001b[0;32m<ipython-input-253-e32117ba2491>\u001b[0m in \u001b[0;36m<module>\u001b[0;34m\u001b[0m\n\u001b[1;32m     19\u001b[0m         \u001b[0mparents\u001b[0m\u001b[0;34m.\u001b[0m\u001b[0mappend\u001b[0m\u001b[0;34m(\u001b[0m\u001b[0mparent\u001b[0m\u001b[0;34m.\u001b[0m\u001b[0mtext\u001b[0m\u001b[0;34m)\u001b[0m\u001b[0;34m\u001b[0m\u001b[0;34m\u001b[0m\u001b[0m\n\u001b[1;32m     20\u001b[0m     \u001b[0;32mexcept\u001b[0m\u001b[0;34m:\u001b[0m\u001b[0;34m\u001b[0m\u001b[0;34m\u001b[0m\u001b[0m\n\u001b[0;32m---> 21\u001b[0;31m         \u001b[0mparents\u001b[0m\u001b[0;34m.\u001b[0m\u001b[0mappend\u001b[0m\u001b[0;34m(\u001b[0m\u001b[0mstrain\u001b[0m\u001b[0;34m[\u001b[0m\u001b[0;36m2\u001b[0m\u001b[0;34m]\u001b[0m\u001b[0;34m,\u001b[0m \u001b[0;32mNone\u001b[0m\u001b[0;34m)\u001b[0m\u001b[0;34m\u001b[0m\u001b[0;34m\u001b[0m\u001b[0m\n\u001b[0m\u001b[1;32m     22\u001b[0m \u001b[0;34m\u001b[0m\u001b[0m\n\u001b[1;32m     23\u001b[0m \u001b[0;31m#     try:\u001b[0m\u001b[0;34m\u001b[0m\u001b[0;34m\u001b[0m\u001b[0;34m\u001b[0m\u001b[0m\n",
      "\u001b[0;31mTypeError\u001b[0m: append() takes exactly one argument (2 given)"
     ]
    }
   ],
   "source": [
    "# #scrape for review totals and parents\n",
    "\n",
    "parents = []\n",
    "reviews = []\n",
    "\n",
    "for url in tqdm(urls_list):\n",
    "    html = requests.get(url).text\n",
    "    soup = BeautifulSoup(html,'html.parser')\n",
    "\n",
    "    try:\n",
    "        container = soup.find(\"a\",{\"class\":\"active\"})  \n",
    "        strain_name = container.get('href') \n",
    "        strain = strain_name.split('/')\n",
    "    except:\n",
    "        None\n",
    "    \n",
    "    try:\n",
    "        parent = soup.findAll('div',attrs={\"class\" : \"strain-tile-footer\"})\n",
    "        parents.append(parent)\n",
    "    except:\n",
    "        parents.append(strain[2], None)\n",
    "    \n",
    "    try:\n",
    "        container = soup.find(\"a\",{\"class\":\"active\"})  \n",
    "        strain_name = container.get('href') \n",
    "        strain = strain_name.split('/')\n",
    "        review_total = soup.find('a',attrs={\"onclick\" : \"window.strainHelpers.trackEvent('User Interactions', 'Strain Details', 'View all Reviews')\"}).text\n",
    "        review = review_total[review_total.find(\"(\")+1:review_total.find(\")\")]\n",
    "        rev_name = [strain[2], review]\n",
    "    except:\n",
    "        rev_name = [strain[2], None]\n",
    "    \n",
    "    reviews.append(rev_name)\n",
    "\n",
    "time.sleep(1)"
   ]
  },
  {
   "cell_type": "code",
   "execution_count": 428,
   "metadata": {
    "scrolled": false
   },
   "outputs": [
    {
     "data": {
      "application/vnd.jupyter.widget-view+json": {
       "model_id": "d22658ecf6f445e6aae553bd586adbb7",
       "version_major": 2,
       "version_minor": 0
      },
      "text/plain": [
       "HBox(children=(IntProgress(value=0, max=400), HTML(value='')))"
      ]
     },
     "metadata": {},
     "output_type": "display_data"
    }
   ],
   "source": [
    "#scrape for parents\n",
    "# change varaible in 6 places\n",
    "\n",
    "parents14_ = []\n",
    "\n",
    "for url in tqdm(urls_3060_to_end):\n",
    "    html = requests.get(url).text\n",
    "    soup = BeautifulSoup(html,'html.parser')\n",
    "\n",
    "    try:\n",
    "\n",
    "        children = soup.findAll('div',attrs={\"class\" : \"strain-tile-footer\"})\n",
    "        parents14_.append(children)\n",
    "    \n",
    "    except:\n",
    "        None\n",
    "\n",
    "    time.sleep(2)        \n",
    " \n",
    "parents14 = pd.DataFrame(parents14_)\n",
    "parents14.to_csv('parents14.csv')"
   ]
  },
  {
   "cell_type": "code",
   "execution_count": 205,
   "metadata": {},
   "outputs": [],
   "source": [
    "review_totals = pd.DataFrame(reviews)\n",
    "review_totals.to_csv('review_totals.csv')"
   ]
  },
  {
   "cell_type": "code",
   "execution_count": 277,
   "metadata": {},
   "outputs": [],
   "source": [
    "parents_final = pd.DataFrame(parents)\n",
    "parents_final.to_csv('parents_final.csv')"
   ]
  },
  {
   "cell_type": "code",
   "execution_count": 208,
   "metadata": {},
   "outputs": [],
   "source": [
    "review_totals.rename(columns=({0:'strain', 1:'review_total'}), inplace=True)"
   ]
  },
  {
   "cell_type": "code",
   "execution_count": 278,
   "metadata": {},
   "outputs": [],
   "source": [
    "review_totals.to_csv('review_totals.csv')\n",
    "parents_final.to_csv('parents_final.csv')"
   ]
  },
  {
   "cell_type": "code",
   "execution_count": 279,
   "metadata": {},
   "outputs": [],
   "source": [
    "review_totals = pd.read_csv('review_totals.csv')\n",
    "parents_final = pd.read_csv('parents_final.csv')"
   ]
  },
  {
   "cell_type": "code",
   "execution_count": null,
   "metadata": {},
   "outputs": [],
   "source": [
    "total_reviews = pd.read_csv('review_totals.csv')"
   ]
  },
  {
   "cell_type": "code",
   "execution_count": null,
   "metadata": {},
   "outputs": [],
   "source": [
    "total_reviews.drop('Unnamed: 0', axis = 1, inplace=True)"
   ]
  },
  {
   "cell_type": "code",
   "execution_count": null,
   "metadata": {},
   "outputs": [],
   "source": [
    "total_reviews.drop('Unnamed: 0.1', axis = 1, inplace=True)"
   ]
  },
  {
   "cell_type": "code",
   "execution_count": null,
   "metadata": {},
   "outputs": [],
   "source": [
    "total_reviews['strain'] = total_reviews['strain'].str.replace('-',' ')"
   ]
  },
  {
   "cell_type": "code",
   "execution_count": null,
   "metadata": {},
   "outputs": [],
   "source": [
    "total_reviews.to_csv('total_reviews.csv')"
   ]
  },
  {
   "cell_type": "code",
   "execution_count": null,
   "metadata": {},
   "outputs": [],
   "source": [
    "parents = pd.read_csv('parents_final.csv')"
   ]
  },
  {
   "cell_type": "code",
   "execution_count": null,
   "metadata": {},
   "outputs": [],
   "source": [
    "final = pd.read_csv('final_df.csv')"
   ]
  },
  {
   "cell_type": "code",
   "execution_count": null,
   "metadata": {},
   "outputs": [],
   "source": [
    "parent1a = pd.read_csv('parents1.csv')\n",
    "parent2a = pd.read_csv('parents2.csv')\n",
    "parent3a = pd.read_csv('parents3.csv')\n",
    "parent4a = pd.read_csv('parents4.csv')\n",
    "parent5a = pd.read_csv('parents5.csv')\n",
    "parent6a = pd.read_csv('parents6.csv')\n",
    "parent7a = pd.read_csv('parents7.csv')\n",
    "parent8a = pd.read_csv('parents8.csv')\n",
    "parent9a = pd.read_csv('parents9.csv')\n",
    "parent10a = pd.read_csv('parents10.csv')\n",
    "parent11a = pd.read_csv('parents11.csv')\n",
    "parent12a = pd.read_csv('parents12.csv')\n",
    "parent13a = pd.read_csv('parents13.csv')\n",
    "parent14a = pd.read_csv('parents14.csv')\n",
    "# parent15a = pd.read_csv('parents15.csv')\n",
    "# parent16a = pd.read_csv('parents16.csv')\n",
    "# parent17a = pd.read_csv('parents17.csv')\n",
    "# parent18a = pd.read_csv('parents18.csv')\n",
    "# parent19a = pd.read_csv('parents19.csv')\n",
    "# parent20a = pd.read_csv('parents20.csv')\n",
    "# parent21a = pd.read_csv('parents21.csv')\n",
    "# parent22a = pd.read_csv('parents22.csv')"
   ]
  },
  {
   "cell_type": "code",
   "execution_count": null,
   "metadata": {},
   "outputs": [],
   "source": [
    "append_list = [parent2a, parent3a, parent4a, parent5a, parent6a, parent7a,\n",
    "              parent8a, parent9a, parent10a, parent11a, parent12a, parent13a,\n",
    "              parent14a]             "
   ]
  },
  {
   "cell_type": "code",
   "execution_count": null,
   "metadata": {},
   "outputs": [],
   "source": [
    "master_df = parent1a.append(append_list, ignore_index = True) "
   ]
  },
  {
   "cell_type": "code",
   "execution_count": null,
   "metadata": {},
   "outputs": [],
   "source": [
    "# master_df.to_csv('master_df.csv')"
   ]
  },
  {
   "cell_type": "code",
   "execution_count": null,
   "metadata": {},
   "outputs": [],
   "source": [
    "master_df = pd.read_csv('master_df.csv')"
   ]
  },
  {
   "cell_type": "code",
   "execution_count": null,
   "metadata": {},
   "outputs": [],
   "source": [
    "def split_string(string):\n",
    "    try:\n",
    "        return re.findall('<div class=\"strain-tile-footer\">(.+)</div>', string)\n",
    "    except:\n",
    "        return 'n'"
   ]
  },
  {
   "cell_type": "code",
   "execution_count": null,
   "metadata": {},
   "outputs": [],
   "source": [
    "master_df['7'] = master_df['7'].apply(split_string)\n",
    "master_df.replace('N, o, n, e', 'n')\n",
    "master_df['7'] = master_df['7'].apply(', '.join)\n",
    "master_df['7'] = [x.strip('$') for x in master_df['7']]\n",
    "master_df['7'] = master_df['7'].str.lower()"
   ]
  },
  {
   "cell_type": "code",
   "execution_count": null,
   "metadata": {},
   "outputs": [],
   "source": [
    "def format_values(df, column):\n",
    "    df[column] = df[column].apply(split_string)\n",
    "    df[column] = df[column].apply(', '.join)\n",
    "    df[column] = [x.strip('$') for x in df[column]]\n",
    "    df[column] = df[column].str.lower()\n",
    "    df[column] = df[column].str.replace(\"'\",'')\n",
    "    df[column] = df[column].str.replace(\".\",'')\n",
    "    df[column] = df[column].str.replace(\"#\",'')"
   ]
  },
  {
   "cell_type": "code",
   "execution_count": null,
   "metadata": {},
   "outputs": [],
   "source": [
    "format_values(master_df, '7')"
   ]
  },
  {
   "cell_type": "code",
   "execution_count": null,
   "metadata": {},
   "outputs": [],
   "source": [
    "master_df.rename(columns={'0': 'strain', '1':'parent_1', '2':'parent_2',\n",
    "                         '3':'parent_3', '4':'parent_4', '5':'parent_5',\n",
    "                         '6':'parent_6', '7':'parent_7'}, inplace=True)"
   ]
  },
  {
   "cell_type": "code",
   "execution_count": null,
   "metadata": {},
   "outputs": [],
   "source": [
    "master_df.drop('Unnamed: 0.1', axis=1, inplace=True)"
   ]
  },
  {
   "cell_type": "code",
   "execution_count": null,
   "metadata": {},
   "outputs": [],
   "source": [
    "# master_df.to_csv('master_parent.csv')"
   ]
  },
  {
   "cell_type": "code",
   "execution_count": 453,
   "metadata": {},
   "outputs": [],
   "source": [
    "#df to dummy\n",
    "final_df = pd.read_csv('master_final.csv')\n",
    "final_df.drop('Unnamed: 0', axis=1, inplace=True)\n",
    "#strip leading numbers from flavors columns\n",
    "final_df['flavor_1'] = final_df['flavor_1'].str.strip('1. ')\n",
    "final_df['flavor_2'] = final_df['flavor_2'].str.strip('2. ')\n",
    "final_df['flavor_3'] = final_df['flavor_3'].str.strip('3. ')\n",
    "final_df.fillna('none', inplace=True)"
   ]
  },
  {
   "cell_type": "code",
   "execution_count": 454,
   "metadata": {},
   "outputs": [],
   "source": [
    "def clean(df, column): \n",
    "    df[column] = df[column].str.replace('\"','')\n",
    "    df[column] = df[column].str.replace('#','')\n",
    "    df[column] = df[column].str.replace(' ','')"
   ]
  },
  {
   "cell_type": "code",
   "execution_count": 455,
   "metadata": {},
   "outputs": [],
   "source": [
    "clean(final_df, 'effect_1')\n",
    "clean(final_df, 'effect_2')\n",
    "clean(final_df, 'effect_3')\n",
    "clean(final_df, 'effect_4')\n",
    "clean(final_df, 'effect_5')\n",
    "clean(final_df, 'medical_1')\n",
    "clean(final_df, 'medical_2')\n",
    "clean(final_df, 'medical_3')\n",
    "clean(final_df, 'medical_4')\n",
    "clean(final_df, 'medical_5')\n",
    "clean(final_df, 'negative_1')\n",
    "clean(final_df, 'negative_2')\n",
    "clean(final_df, 'negative_3')\n",
    "clean(final_df, 'negative_4')\n",
    "clean(final_df, 'negative_5')\n",
    "clean(final_df, 'flavor_1')\n",
    "clean(final_df, 'flavor_2')\n",
    "clean(final_df, 'flavor_3')"
   ]
  },
  {
   "cell_type": "markdown",
   "metadata": {},
   "source": [
    "### Dummy Categories"
   ]
  },
  {
   "cell_type": "code",
   "execution_count": 456,
   "metadata": {},
   "outputs": [],
   "source": [
    "category_dummies = pd.get_dummies(final_df['category'], prefix=\"cat_\")\n",
    "effect1_dummies = pd.get_dummies(final_df['effect_1'], prefix=\"eff1_\")\n",
    "effect2_dummies = pd.get_dummies(final_df['effect_2'], prefix=\"eff2_\")\n",
    "effect3_dummies = pd.get_dummies(final_df['effect_3'], prefix=\"eff3_\")\n",
    "effect4_dummies = pd.get_dummies(final_df['effect_4'], prefix=\"eff4_\")\n",
    "effect5_dummies = pd.get_dummies(final_df['effect_5'], prefix=\"eff5_\")\n",
    "med1_dummies = pd.get_dummies(final_df['medical_1'], prefix=\"med1_\")\n",
    "med2_dummies = pd.get_dummies(final_df['medical_2'], prefix=\"med2_\")\n",
    "med3_dummies = pd.get_dummies(final_df['medical_3'], prefix=\"med3_\")\n",
    "med4_dummies = pd.get_dummies(final_df['medical_4'], prefix=\"med4_\")\n",
    "med5_dummies = pd.get_dummies(final_df['medical_5'], prefix=\"med5_\")\n",
    "neg1_dummies = pd.get_dummies(final_df['negative_1'], prefix=\"neg1_\")\n",
    "neg2_dummies = pd.get_dummies(final_df['negative_2'], prefix=\"neg2_\")\n",
    "neg3_dummies = pd.get_dummies(final_df['negative_3'], prefix=\"neg3_\")\n",
    "neg4_dummies = pd.get_dummies(final_df['negative_4'], prefix=\"neg4_\")\n",
    "neg5_dummies = pd.get_dummies(final_df['negative_5'], prefix=\"neg5_\")\n",
    "flav1_dummies = pd.get_dummies(final_df['flavor_1'], prefix=\"flav1_\")\n",
    "flav2_dummies = pd.get_dummies(final_df['flavor_2'], prefix=\"flav2_\")\n",
    "flav3_dummies = pd.get_dummies(final_df['flavor_3'], prefix=\"flav3_\")\n",
    "\n",
    "\n",
    "final_df = pd.concat([final_df, category_dummies],axis=1)\n",
    "final_df = pd.concat([final_df, effect1_dummies],axis=1)\n",
    "final_df = pd.concat([final_df, effect2_dummies],axis=1)\n",
    "final_df = pd.concat([final_df, effect3_dummies],axis=1)\n",
    "final_df = pd.concat([final_df, effect4_dummies],axis=1)\n",
    "final_df = pd.concat([final_df, effect5_dummies],axis=1)\n",
    "final_df = pd.concat([final_df, med1_dummies],axis=1)\n",
    "final_df = pd.concat([final_df, med2_dummies],axis=1)\n",
    "final_df = pd.concat([final_df, med3_dummies],axis=1)\n",
    "final_df = pd.concat([final_df, med4_dummies],axis=1)\n",
    "final_df = pd.concat([final_df, med5_dummies],axis=1)\n",
    "final_df = pd.concat([final_df, neg1_dummies],axis=1)\n",
    "final_df = pd.concat([final_df, neg2_dummies],axis=1)\n",
    "final_df = pd.concat([final_df, neg3_dummies],axis=1)\n",
    "final_df = pd.concat([final_df, neg4_dummies],axis=1)\n",
    "final_df = pd.concat([final_df, neg5_dummies],axis=1)\n",
    "final_df = pd.concat([final_df, flav1_dummies],axis=1)\n",
    "final_df = pd.concat([final_df, flav2_dummies],axis=1)\n",
    "final_df = pd.concat([final_df, flav3_dummies],axis=1)"
   ]
  },
  {
   "cell_type": "code",
   "execution_count": 457,
   "metadata": {},
   "outputs": [],
   "source": [
    "to_drop = ['category', 'effect_1', 'effect_2', 'effect_3', 'effect_4',\n",
    "          'effect_5', 'medical_1', 'medical_2', 'medical_3', 'medical_4',\n",
    "          'medical_5', 'negative_1', 'negative_2', 'negative_3', 'negative_4',\n",
    "          'negative_5', 'flavor_1', 'flavor_2', 'flavor_3']\n",
    "final_df.drop(to_drop, axis=1, inplace=True)"
   ]
  },
  {
   "cell_type": "code",
   "execution_count": 458,
   "metadata": {},
   "outputs": [],
   "source": [
    "to_drop = ['review_total', 'parent_1', 'parent_2', \n",
    "           'parent_3', 'parent_4', 'parent_5', \n",
    "           'parent_6', 'parent_7']\n",
    "\n",
    "final_df.drop(to_drop, axis=1, inplace=True)"
   ]
  },
  {
   "cell_type": "markdown",
   "metadata": {},
   "source": [
    "### Create Clusters Using KNN"
   ]
  },
  {
   "cell_type": "markdown",
   "metadata": {},
   "source": [
    "#### Create Clusters"
   ]
  },
  {
   "cell_type": "code",
   "execution_count": 472,
   "metadata": {},
   "outputs": [],
   "source": [
    "features = final_df.drop('strain',axis=1)\n",
    "nbrs = NearestNeighbors(n_neighbors=11, algorithm='ball_tree').fit(features)\n",
    "distances, indices = nbrs.kneighbors(features)"
   ]
  },
  {
   "cell_type": "markdown",
   "metadata": {},
   "source": [
    "#### Query"
   ]
  },
  {
   "cell_type": "code",
   "execution_count": 502,
   "metadata": {},
   "outputs": [],
   "source": [
    "def get_index_from_name(strain):\n",
    "    return final_df[final_df['strain']==strain].index.tolist()[0]\n",
    "\n",
    "def print_similar_strains(query=None):\n",
    "    found_id = get_index_from_name(query)\n",
    "    for id in indices[found_id][1:]:\n",
    "        print(final_df.ix[id]['strain'])"
   ]
  },
  {
   "cell_type": "code",
   "execution_count": 505,
   "metadata": {},
   "outputs": [
    {
     "name": "stdout",
     "output_type": "stream",
     "text": [
      "alaskan thunder fuck\n",
      "candyland\n",
      "sour tangie\n",
      "sour diesel\n",
      "super silver haze\n",
      "lambs bread\n",
      "maui wowie\n",
      "durban cookies\n",
      "jack the ripper\n",
      "acapulco gold\n"
     ]
    }
   ],
   "source": [
    "print_similar_strains('jack herer')"
   ]
  },
  {
   "cell_type": "code",
   "execution_count": null,
   "metadata": {},
   "outputs": [],
   "source": [
    "#from vectorized tokens\n",
    "\n",
    "# 'alaskan thunder fuck',\n",
    "#  'durban poison',\n",
    "#  'red congolese',\n",
    "#  'green crack',\n",
    "#  'red haze',\n",
    "#  'white durban',\n",
    "#  'buffalo bill',\n",
    "#  'acapulco gold',\n",
    "#  'incredible hulk',\n",
    "#  'kali mist']"
   ]
  },
  {
   "cell_type": "markdown",
   "metadata": {},
   "source": [
    "#### df not dummied"
   ]
  },
  {
   "cell_type": "code",
   "execution_count": 463,
   "metadata": {},
   "outputs": [],
   "source": [
    "#df that isn't dummied\n",
    "\n",
    "unedited_df = pd.read_csv('master_final.csv')\n",
    "unedited_df.drop('Unnamed: 0', axis=1, inplace=True)\n",
    "unedited_df.fillna('none', inplace=True)\n",
    "\n",
    "#strip leading numbers from flavors columns\n",
    "unedited_df['flavor_1'] = unedited_df['flavor_1'].str.strip('1. ')\n",
    "unedited_df['flavor_2'] = unedited_df['flavor_2'].str.strip('2. ')\n",
    "unedited_df['flavor_3'] = unedited_df['flavor_3'].str.strip('3. ')\n",
    "\n",
    "to_drop = ['review_total', 'parent_1', 'parent_2', \n",
    "           'parent_3', 'parent_4', 'parent_5', \n",
    "           'parent_6', 'parent_7']\n",
    "\n",
    "unedited_df.drop(to_drop, axis=1, inplace=True)"
   ]
  },
  {
   "cell_type": "code",
   "execution_count": 464,
   "metadata": {},
   "outputs": [],
   "source": [
    "clean(unedited_df, 'effect_1')\n",
    "clean(unedited_df, 'effect_2')\n",
    "clean(unedited_df, 'effect_3')\n",
    "clean(unedited_df, 'effect_4')\n",
    "clean(unedited_df, 'effect_5')\n",
    "clean(unedited_df, 'medical_1')\n",
    "clean(unedited_df, 'medical_2')\n",
    "clean(unedited_df, 'medical_3')\n",
    "clean(unedited_df, 'medical_4')\n",
    "clean(unedited_df, 'medical_5')\n",
    "clean(unedited_df, 'negative_1')\n",
    "clean(unedited_df, 'negative_2')\n",
    "clean(unedited_df, 'negative_3')\n",
    "clean(unedited_df, 'negative_4')\n",
    "clean(unedited_df, 'negative_5')\n",
    "clean(unedited_df, 'flavor_1')\n",
    "clean(unedited_df, 'flavor_2')\n",
    "clean(unedited_df, 'flavor_3')"
   ]
  },
  {
   "cell_type": "code",
   "execution_count": 466,
   "metadata": {
    "scrolled": true
   },
   "outputs": [
    {
     "data": {
      "image/png": "[encoded data removed]",
      "text/plain": [
       "<Figure size 432x288 with 1 Axes>"
      ]
     },
     "metadata": {
      "needs_background": "light"
     },
     "output_type": "display_data"
    }
   ],
   "source": [
    "pd.value_counts(unedited_df['effect_1']).plot.bar()\n",
    "plt.show()"
   ]
  },
  {
   "cell_type": "code",
   "execution_count": 467,
   "metadata": {
    "scrolled": true
   },
   "outputs": [
    {
     "data": {
      "image/png": "[encoded data removed]",
      "text/plain": [
       "<Figure size 432x288 with 1 Axes>"
      ]
     },
     "metadata": {
      "needs_background": "light"
     },
     "output_type": "display_data"
    }
   ],
   "source": [
    "pd.value_counts(unedited_df['effect_2']).plot.bar()\n",
    "plt.show()"
   ]
  },
  {
   "cell_type": "code",
   "execution_count": 468,
   "metadata": {
    "scrolled": true
   },
   "outputs": [
    {
     "data": {
      "image/png": "[encoded data removed]",
      "text/plain": [
       "<Figure size 432x288 with 1 Axes>"
      ]
     },
     "metadata": {
      "needs_background": "light"
     },
     "output_type": "display_data"
    }
   ],
   "source": [
    "pd.value_counts(unedited_df['effect_3']).plot.bar()\n",
    "plt.show()"
   ]
  },
  {
   "cell_type": "code",
   "execution_count": 469,
   "metadata": {
    "scrolled": true
   },
   "outputs": [
    {
     "data": {
      "image/png": "[encoded data removed]",
      "text/plain": [
       "<Figure size 432x288 with 1 Axes>"
      ]
     },
     "metadata": {
      "needs_background": "light"
     },
     "output_type": "display_data"
    }
   ],
   "source": [
    "pd.value_counts(unedited_df['effect_4']).plot.bar()\n",
    "plt.show()"
   ]
  },
  {
   "cell_type": "code",
   "execution_count": 470,
   "metadata": {},
   "outputs": [
    {
     "data": {
      "image/png": "[encoded data removed]",
      "text/plain": [
       "<Figure size 432x288 with 1 Axes>"
      ]
     },
     "metadata": {
      "needs_background": "light"
     },
     "output_type": "display_data"
    }
   ],
   "source": [
    "pd.value_counts(unedited_df['effect_5']).plot.bar()\n",
    "plt.show()"
   ]
  },
  {
   "cell_type": "markdown",
   "metadata": {},
   "source": [
    "### Vectorization"
   ]
  },
  {
   "cell_type": "code",
   "execution_count": 506,
   "metadata": {},
   "outputs": [],
   "source": [
    "#move category column to end\n",
    "df1 = unedited_df.pop('category')\n",
    "unedited_df['category']=df1\n",
    "\n",
    "unedited_df['combined'] = unedited_df[unedited_df.columns[1:]].apply(\n",
    "    lambda x: ','.join(x), axis=1)"
   ]
  },
  {
   "cell_type": "code",
   "execution_count": 483,
   "metadata": {},
   "outputs": [
    {
     "data": {
      "text/plain": [
       "'happy uplifted relaxed euphoric sleepy stress pain depression insomnia lackofappetite drymouth dizzy dryeyes anxious paranoid earthy diesel pungent hybrid'"
      ]
     },
     "execution_count": 483,
     "metadata": {},
     "output_type": "execute_result"
    }
   ],
   "source": [
    "unedited_df['combined'][0]"
   ]
  },
  {
   "cell_type": "code",
   "execution_count": 486,
   "metadata": {},
   "outputs": [],
   "source": [
    "# instantiating and generating the count matrix\n",
    "count = CountVectorizer()\n",
    "count_matrix = count.fit_transform(unedited_df['combined'])\n",
    "\n",
    "# generating the cosine similarity matrix\n",
    "cosine_sim = cosine_similarity(count_matrix, count_matrix)"
   ]
  },
  {
   "cell_type": "code",
   "execution_count": 498,
   "metadata": {},
   "outputs": [],
   "source": [
    "# creating a Series for the strains so they are associated to an ordered numerical\n",
    "# list I will use in the function to match the indexes\n",
    "indices = pd.Series(unedited_df.index)\n",
    "\n",
    "#  defining the function that takes in strain \n",
    "# as input and returns the top 10 recommended strains\n",
    "def recommended_strains(strain, cosine_sim = cosine_sim):\n",
    "    \n",
    "    # initializing the empty list of recommended movies\n",
    "    recommended_strains = []\n",
    "    \n",
    "    # gettin the index of the strain that matches the strain\n",
    "    idx = final_df[final_df['strain']==strain].index[0]\n",
    "    \n",
    "    # creating a Series with the similarity scores in descending order\n",
    "    score_series = pd.Series(cosine_sim[idx]).sort_values(ascending = False)\n",
    "\n",
    "    # getting the indexes of the 10 most similar strains\n",
    "    top_10_indexes = list(score_series.iloc[1:11].index)\n",
    "    \n",
    "    # populating the list with the titles of the best 10 matching strains\n",
    "    for i in top_10_indexes:\n",
    "        recommended_strains.append((unedited_df.ix[i]['strain']))\n",
    "        #unedited_df.ix[id]['strain']\n",
    "    return recommended_strains"
   ]
  },
  {
   "cell_type": "code",
   "execution_count": 499,
   "metadata": {
    "scrolled": false
   },
   "outputs": [
    {
     "data": {
      "text/plain": [
       "['alaskan thunder fuck',\n",
       " 'durban poison',\n",
       " 'red congolese',\n",
       " 'green crack',\n",
       " 'red haze',\n",
       " 'white durban',\n",
       " 'buffalo bill',\n",
       " 'acapulco gold',\n",
       " 'incredible hulk',\n",
       " 'kali mist']"
      ]
     },
     "execution_count": 499,
     "metadata": {},
     "output_type": "execute_result"
    }
   ],
   "source": [
    "recommended_strains('jack herer')"
   ]
  },
  {
   "cell_type": "markdown",
   "metadata": {},
   "source": [
    "### Feature Selection"
   ]
  },
  {
   "cell_type": "code",
   "execution_count": 404,
   "metadata": {},
   "outputs": [
    {
     "data": {
      "text/plain": [
       "Index(['cat__hybrid', 'cat__indica', 'cat__sativa', 'eff1__aroused',\n",
       "       'eff1__creative', 'eff1__energetic', 'eff1__euphoric', 'eff1__focused',\n",
       "       'eff1__giggly', 'eff1__happy',\n",
       "       ...\n",
       "       'flav3__strawberry', 'flav3__sweet', 'flav3__tar', 'flav3__tea',\n",
       "       'flav3__tobacco', 'flav3__treefruit', 'flav3__tropical',\n",
       "       'flav3__vanilla', 'flav3__violet', 'flav3__woody'],\n",
       "      dtype='object', length=327)"
      ]
     },
     "execution_count": 404,
     "metadata": {},
     "output_type": "execute_result"
    }
   ],
   "source": [
    "X.columns"
   ]
  },
  {
   "cell_type": "markdown",
   "metadata": {},
   "source": [
    "#### Use F-Test to View Top Variables"
   ]
  },
  {
   "cell_type": "code",
   "execution_count": 509,
   "metadata": {},
   "outputs": [],
   "source": [
    "selector=SelectKBest(f_regression, k=40)\n",
    "selector.fit(features, final_df.index)\n",
    "best_columns = features.columns[selector.get_support()]\n",
    "other_columns = features.columns[~selector.get_support()]"
   ]
  },
  {
   "cell_type": "code",
   "execution_count": 510,
   "metadata": {
    "scrolled": true
   },
   "outputs": [
    {
     "data": {
      "text/plain": [
       "Index(['cat__sativa', 'eff1__sleepy', 'eff1__uplifted', 'eff2__giggly',\n",
       "       'eff2__talkative', 'eff3__hungry', 'eff4__creative', 'eff4__energetic',\n",
       "       'eff5__sleepy', 'med1__nausea', 'med2__cramps', 'med2__inflammation',\n",
       "       'med2__lackofappetite', 'med2__none', 'med3__fatigue', 'med4__pain',\n",
       "       'med5__musclespasms', 'med5__seizures', 'neg2__dizzy', 'neg2__dryeyes',\n",
       "       'flav1__blueberry', 'flav1__bluecheese', 'flav1__cheese',\n",
       "       'flav1__lemon', 'flav1__pineapple', 'flav1__sage', 'flav1__strawberry',\n",
       "       'flav1__violet', 'flav2__blueberry', 'flav2__butter', 'flav2__cheese',\n",
       "       'flav2__citrus', 'flav2__orange', 'flav2__peach', 'flav2__strawberry',\n",
       "       'flav2__vanilla', 'flav2__violet', 'flav3__blueberry',\n",
       "       'flav3__strawberry', 'flav3__sweet'],\n",
       "      dtype='object')"
      ]
     },
     "execution_count": 510,
     "metadata": {},
     "output_type": "execute_result"
    }
   ],
   "source": [
    "best_columns"
   ]
  },
  {
   "cell_type": "markdown",
   "metadata": {},
   "source": [
    "#### Use Recursive Feature Elimination"
   ]
  },
  {
   "cell_type": "code",
   "execution_count": 511,
   "metadata": {},
   "outputs": [
    {
     "data": {
      "text/plain": [
       "RFECV(cv=5,\n",
       "   estimator=LinearRegression(copy_X=True, fit_intercept=True, n_jobs=None,\n",
       "         normalize=False),\n",
       "   min_features_to_select=1, n_jobs=None, scoring='neg_mean_squared_error',\n",
       "   step=1, verbose=0)"
      ]
     },
     "execution_count": 511,
     "metadata": {},
     "output_type": "execute_result"
    }
   ],
   "source": [
    "ols = linear_model.LinearRegression()\n",
    "selector = RFECV(estimator=ols, step=1, cv=5, scoring='neg_mean_squared_error')\n",
    "selector.fit(features, final_df.index)"
   ]
  },
  {
   "cell_type": "code",
   "execution_count": 512,
   "metadata": {},
   "outputs": [],
   "source": [
    "selected_columns = features.columns[selector.support_]\n",
    "removed_columns = features.columns[~selector.support_]"
   ]
  },
  {
   "cell_type": "code",
   "execution_count": 513,
   "metadata": {},
   "outputs": [
    {
     "data": {
      "text/plain": [
       "Index(['neg1__headache', 'neg5__drymouth'], dtype='object')"
      ]
     },
     "execution_count": 513,
     "metadata": {},
     "output_type": "execute_result"
    }
   ],
   "source": [
    "selected_columns"
   ]
  },
  {
   "cell_type": "code",
   "execution_count": 514,
   "metadata": {
    "scrolled": true
   },
   "outputs": [
    {
     "data": {
      "text/plain": [
       "Index(['cat__hybrid', 'cat__indica', 'cat__sativa', 'eff1__aroused',\n",
       "       'eff1__creative', 'eff1__energetic', 'eff1__euphoric', 'eff1__focused',\n",
       "       'eff1__giggly', 'eff1__happy',\n",
       "       ...\n",
       "       'flav3__strawberry', 'flav3__sweet', 'flav3__tar', 'flav3__tea',\n",
       "       'flav3__tobacco', 'flav3__treefruit', 'flav3__tropical',\n",
       "       'flav3__vanilla', 'flav3__violet', 'flav3__woody'],\n",
       "      dtype='object', length=325)"
      ]
     },
     "execution_count": 514,
     "metadata": {},
     "output_type": "execute_result"
    }
   ],
   "source": [
    "removed_columns"
   ]
  },
  {
   "cell_type": "markdown",
   "metadata": {},
   "source": [
    "#### Removing Variables Based on Correlation Coeeficient"
   ]
  },
  {
   "cell_type": "code",
   "execution_count": null,
   "metadata": {},
   "outputs": [],
   "source": [
    "#Plots a heatmap of correlation between features with masking\n",
    "fig, ax = tqdm(plt.subplots(figsize=(20,20)))\n",
    "mask=tqdm(np.zeros_like(final_df.corr(), dtype=np.bool))\n",
    "mask[np.triu_indices_from(mask)] = True\n",
    "color_map = sns.color_palette(\"hot_r\")\n",
    "ax = sns.heatmap(final_df.corr(), cmap = color_map, mask=mask, square=True, annot=True)"
   ]
  },
  {
   "cell_type": "markdown",
   "metadata": {},
   "source": [
    "#### Modeling with Removed Features"
   ]
  },
  {
   "cell_type": "code",
   "execution_count": null,
   "metadata": {},
   "outputs": [],
   "source": []
  },
  {
   "cell_type": "code",
   "execution_count": null,
   "metadata": {},
   "outputs": [],
   "source": []
  }
 ],
 "metadata": {
  "kernelspec": {
   "display_name": "Python 3",
   "language": "python",
   "name": "python3"
  },
  "language_info": {
   "codemirror_mode": {
    "name": "ipython",
    "version": 3
   },
   "file_extension": ".py",
   "mimetype": "text/x-python",
   "name": "python",
   "nbconvert_exporter": "python",
   "pygments_lexer": "ipython3",
   "version": "3.7.3"
  }
 },
 "nbformat": 4,
 "nbformat_minor": 2
}
