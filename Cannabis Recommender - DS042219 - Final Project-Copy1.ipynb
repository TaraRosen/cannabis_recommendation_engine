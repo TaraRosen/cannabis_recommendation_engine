{
 "cells": [
  {
   "cell_type": "code",
   "execution_count": 114,
   "metadata": {},
   "outputs": [],
   "source": [
    "import requests\n",
    "from bs4 import BeautifulSoup\n",
    "import pandas as pd\n",
    "import pandas\n",
    "import urllib\n",
    "import re\n",
    "\n",
    "from selenium import webdriver\n",
    "from time import sleep\n",
    "from selenium.webdriver import ActionChains\n",
    "from selenium.webdriver.common.keys import Keys\n",
    "\n",
    "from selenium.common.exceptions import NoSuchElementException, WebDriverException\n",
    "\n",
    "import csv"
   ]
  },
  {
   "cell_type": "code",
   "execution_count": 3,
   "metadata": {},
   "outputs": [],
   "source": [
    "#A quick look at https://www.leafly.com/explore/page-61/sort-alpha shows \n",
    "#that this is the last page of strains\n",
    "pages = 61 \n",
    "websites = []\n",
    "strain_names = []\n",
    "\n",
    "for i in range(pages+1):\n",
    "    page_url = \"https://www.leafly.com/explore/page-\"+str(i)+\"/sort-alpha\"\n",
    "    html = requests.get(page_url).text\n",
    "    soup = BeautifulSoup(html,'html.parser')\n",
    "    urls = soup.findAll(\"a\",{\"class\":\"ga_Explore_Strain_Tile\"})\n",
    "        \n",
    "    for url in urls:\n",
    "        strain_name = url.get('href')\n",
    "        strain_names.append(strain_name)\n",
    "        website = (\"https://www.leafly.com\" + strain_name)\n",
    "        websites.append(website)"
   ]
  },
  {
   "cell_type": "code",
   "execution_count": 37,
   "metadata": {},
   "outputs": [],
   "source": [
    "#create url df\n",
    "url_df = pd.DataFrame(websites, columns = ['url']) "
   ]
  },
  {
   "cell_type": "code",
   "execution_count": 38,
   "metadata": {},
   "outputs": [],
   "source": [
    "#create url csv\n",
    "url_df.to_csv('urls.csv')"
   ]
  },
  {
   "cell_type": "code",
   "execution_count": 12,
   "metadata": {},
   "outputs": [],
   "source": [
    "#create strain_names csv\n",
    "strains_df = pd.DataFrame(strain_names, columns = ['strain_name']) "
   ]
  },
  {
   "cell_type": "code",
   "execution_count": 13,
   "metadata": {},
   "outputs": [],
   "source": [
    "#create strain_names csv\n",
    "strains_df.to_csv('strains.csv')"
   ]
  },
  {
   "cell_type": "code",
   "execution_count": 21,
   "metadata": {},
   "outputs": [],
   "source": [
    "#parse strain_name:\n",
    "\n",
    "parsed =[]\n",
    "for words in strains_df['strain_name']:\n",
    "    parse = re.findall(r\"[\\w']+\", words)\n",
    "    parsed.append(parse)"
   ]
  },
  {
   "cell_type": "code",
   "execution_count": 42,
   "metadata": {},
   "outputs": [
    {
     "data": {
      "text/plain": [
       "[['hybrid', '100', 'og'],\n",
       " ['hybrid', '98', 'white', 'widow'],\n",
       " ['sativa', '1024'],\n",
       " ['hybrid', '12', 'year', 'og'],\n",
       " ['hybrid', '13', 'dawgs'],\n",
       " ['hybrid', '22'],\n",
       " ['hybrid', '24k', 'gold'],\n",
       " ['indica', '3', 'bears', 'og'],\n",
       " ['hybrid', '100', 'og'],\n",
       " ['hybrid', '98', 'white', 'widow']]"
      ]
     },
     "execution_count": 42,
     "metadata": {},
     "output_type": "execute_result"
    }
   ],
   "source": [
    "parsed[:10]"
   ]
  },
  {
   "cell_type": "code",
   "execution_count": 23,
   "metadata": {
    "scrolled": false
   },
   "outputs": [],
   "source": [
    "#create name and strain df\n",
    "\n",
    "df = pd.DataFrame(parsed, columns = ['strain', 'name1', 'name2',\n",
    "                                    'name3', 'name4', 'name5', 'name6']) "
   ]
  },
  {
   "cell_type": "code",
   "execution_count": 25,
   "metadata": {
    "scrolled": true
   },
   "outputs": [],
   "source": [
    "#drop last 5 columns - just fillers\n",
    "\n",
    "df.drop(df.tail(5).index,inplace=True)"
   ]
  },
  {
   "cell_type": "code",
   "execution_count": 26,
   "metadata": {},
   "outputs": [],
   "source": [
    "#merge name columns\n",
    "\n",
    "df['name'] = df[df.columns[1:]].apply(\n",
    "    lambda x: ' '.join(x.dropna().astype(str)),\n",
    "    axis=1)"
   ]
  },
  {
   "cell_type": "code",
   "execution_count": 27,
   "metadata": {},
   "outputs": [],
   "source": [
    "#drop unnecessary columns\n",
    "\n",
    "df.drop(['name1', 'name2', 'name3', 'name4', 'name5', 'name6'], axis=1, inplace=True)"
   ]
  },
  {
   "cell_type": "code",
   "execution_count": 47,
   "metadata": {
    "scrolled": false
   },
   "outputs": [
    {
     "data": {
      "text/html": [
       "<div>\n",
       "<style scoped>\n",
       "    .dataframe tbody tr th:only-of-type {\n",
       "        vertical-align: middle;\n",
       "    }\n",
       "\n",
       "    .dataframe tbody tr th {\n",
       "        vertical-align: top;\n",
       "    }\n",
       "\n",
       "    .dataframe thead th {\n",
       "        text-align: right;\n",
       "    }\n",
       "</style>\n",
       "<table border=\"1\" class=\"dataframe\">\n",
       "  <thead>\n",
       "    <tr style=\"text-align: right;\">\n",
       "      <th></th>\n",
       "      <th>strain</th>\n",
       "      <th>name</th>\n",
       "    </tr>\n",
       "  </thead>\n",
       "  <tbody>\n",
       "    <tr>\n",
       "      <th>0</th>\n",
       "      <td>hybrid</td>\n",
       "      <td>100 og</td>\n",
       "    </tr>\n",
       "    <tr>\n",
       "      <th>1</th>\n",
       "      <td>hybrid</td>\n",
       "      <td>98 white widow</td>\n",
       "    </tr>\n",
       "    <tr>\n",
       "      <th>2</th>\n",
       "      <td>sativa</td>\n",
       "      <td>1024</td>\n",
       "    </tr>\n",
       "    <tr>\n",
       "      <th>3</th>\n",
       "      <td>hybrid</td>\n",
       "      <td>12 year og</td>\n",
       "    </tr>\n",
       "    <tr>\n",
       "      <th>4</th>\n",
       "      <td>hybrid</td>\n",
       "      <td>13 dawgs</td>\n",
       "    </tr>\n",
       "  </tbody>\n",
       "</table>\n",
       "</div>"
      ],
      "text/plain": [
       "   strain            name\n",
       "0  hybrid          100 og\n",
       "1  hybrid  98 white widow\n",
       "2  sativa            1024\n",
       "3  hybrid      12 year og\n",
       "4  hybrid        13 dawgs"
      ]
     },
     "execution_count": 47,
     "metadata": {},
     "output_type": "execute_result"
    }
   ],
   "source": [
    "df.head()"
   ]
  },
  {
   "cell_type": "code",
   "execution_count": 45,
   "metadata": {},
   "outputs": [
    {
     "data": {
      "text/plain": [
       "2958"
      ]
     },
     "execution_count": 45,
     "metadata": {},
     "output_type": "execute_result"
    }
   ],
   "source": [
    "len(df)"
   ]
  },
  {
   "cell_type": "code",
   "execution_count": 44,
   "metadata": {
    "scrolled": true
   },
   "outputs": [
    {
     "data": {
      "text/plain": [
       "0"
      ]
     },
     "execution_count": 44,
     "metadata": {},
     "output_type": "execute_result"
    }
   ],
   "source": [
    "#number of duplicates\n",
    "\n",
    "df['name'].duplicated().sum()"
   ]
  },
  {
   "cell_type": "code",
   "execution_count": 50,
   "metadata": {
    "scrolled": true
   },
   "outputs": [
    {
     "data": {
      "text/plain": [
       "497"
      ]
     },
     "execution_count": 50,
     "metadata": {},
     "output_type": "execute_result"
    }
   ],
   "source": [
    "url_df['url'].duplicated().sum()"
   ]
  },
  {
   "cell_type": "code",
   "execution_count": 56,
   "metadata": {
    "scrolled": false
   },
   "outputs": [],
   "source": [
    "url_df.drop_duplicates(inplace=True)"
   ]
  },
  {
   "cell_type": "code",
   "execution_count": 57,
   "metadata": {},
   "outputs": [
    {
     "data": {
      "text/html": [
       "<div>\n",
       "<style scoped>\n",
       "    .dataframe tbody tr th:only-of-type {\n",
       "        vertical-align: middle;\n",
       "    }\n",
       "\n",
       "    .dataframe tbody tr th {\n",
       "        vertical-align: top;\n",
       "    }\n",
       "\n",
       "    .dataframe thead th {\n",
       "        text-align: right;\n",
       "    }\n",
       "</style>\n",
       "<table border=\"1\" class=\"dataframe\">\n",
       "  <thead>\n",
       "    <tr style=\"text-align: right;\">\n",
       "      <th></th>\n",
       "      <th>index</th>\n",
       "      <th>url</th>\n",
       "    </tr>\n",
       "  </thead>\n",
       "  <tbody>\n",
       "    <tr>\n",
       "      <th>0</th>\n",
       "      <td>0</td>\n",
       "      <td>https://www.leafly.com/hybrid/100-og</td>\n",
       "    </tr>\n",
       "    <tr>\n",
       "      <th>1</th>\n",
       "      <td>1</td>\n",
       "      <td>https://www.leafly.com/hybrid/98-white-widow</td>\n",
       "    </tr>\n",
       "    <tr>\n",
       "      <th>2</th>\n",
       "      <td>2</td>\n",
       "      <td>https://www.leafly.com/sativa/1024</td>\n",
       "    </tr>\n",
       "    <tr>\n",
       "      <th>3</th>\n",
       "      <td>3</td>\n",
       "      <td>https://www.leafly.com/hybrid/12-year-og</td>\n",
       "    </tr>\n",
       "    <tr>\n",
       "      <th>4</th>\n",
       "      <td>4</td>\n",
       "      <td>https://www.leafly.com/hybrid/13-dawgs</td>\n",
       "    </tr>\n",
       "    <tr>\n",
       "      <th>5</th>\n",
       "      <td>5</td>\n",
       "      <td>https://www.leafly.com/hybrid/22</td>\n",
       "    </tr>\n",
       "    <tr>\n",
       "      <th>6</th>\n",
       "      <td>6</td>\n",
       "      <td>https://www.leafly.com/hybrid/24k-gold</td>\n",
       "    </tr>\n",
       "    <tr>\n",
       "      <th>7</th>\n",
       "      <td>7</td>\n",
       "      <td>https://www.leafly.com/indica/3-bears-og</td>\n",
       "    </tr>\n",
       "    <tr>\n",
       "      <th>8</th>\n",
       "      <td>16</td>\n",
       "      <td>https://www.leafly.com/hybrid/3-kings</td>\n",
       "    </tr>\n",
       "    <tr>\n",
       "      <th>9</th>\n",
       "      <td>17</td>\n",
       "      <td>https://www.leafly.com/indica/303-og</td>\n",
       "    </tr>\n",
       "    <tr>\n",
       "      <th>10</th>\n",
       "      <td>18</td>\n",
       "      <td>https://www.leafly.com/sativa/3d-cbd</td>\n",
       "    </tr>\n",
       "    <tr>\n",
       "      <th>11</th>\n",
       "      <td>19</td>\n",
       "      <td>https://www.leafly.com/indica/3x-crazy</td>\n",
       "    </tr>\n",
       "    <tr>\n",
       "      <th>12</th>\n",
       "      <td>20</td>\n",
       "      <td>https://www.leafly.com/hybrid/3rd-coast-panama...</td>\n",
       "    </tr>\n",
       "    <tr>\n",
       "      <th>13</th>\n",
       "      <td>21</td>\n",
       "      <td>https://www.leafly.com/hybrid/501st-og</td>\n",
       "    </tr>\n",
       "    <tr>\n",
       "      <th>14</th>\n",
       "      <td>22</td>\n",
       "      <td>https://www.leafly.com/hybrid/541-kush</td>\n",
       "    </tr>\n",
       "    <tr>\n",
       "      <th>15</th>\n",
       "      <td>23</td>\n",
       "      <td>https://www.leafly.com/indica/5th-element</td>\n",
       "    </tr>\n",
       "    <tr>\n",
       "      <th>16</th>\n",
       "      <td>24</td>\n",
       "      <td>https://www.leafly.com/hybrid/707-headband</td>\n",
       "    </tr>\n",
       "    <tr>\n",
       "      <th>17</th>\n",
       "      <td>25</td>\n",
       "      <td>https://www.leafly.com/hybrid/707-truthband</td>\n",
       "    </tr>\n",
       "    <tr>\n",
       "      <th>18</th>\n",
       "      <td>26</td>\n",
       "      <td>https://www.leafly.com/indica/8-ball-kush</td>\n",
       "    </tr>\n",
       "    <tr>\n",
       "      <th>19</th>\n",
       "      <td>27</td>\n",
       "      <td>https://www.leafly.com/indica/818-og</td>\n",
       "    </tr>\n",
       "    <tr>\n",
       "      <th>20</th>\n",
       "      <td>28</td>\n",
       "      <td>https://www.leafly.com/indica/831-og</td>\n",
       "    </tr>\n",
       "    <tr>\n",
       "      <th>21</th>\n",
       "      <td>29</td>\n",
       "      <td>https://www.leafly.com/hybrid/840</td>\n",
       "    </tr>\n",
       "    <tr>\n",
       "      <th>22</th>\n",
       "      <td>30</td>\n",
       "      <td>https://www.leafly.com/indica/9-pound-hammer</td>\n",
       "    </tr>\n",
       "    <tr>\n",
       "      <th>23</th>\n",
       "      <td>31</td>\n",
       "      <td>https://www.leafly.com/indica/91-krypt</td>\n",
       "    </tr>\n",
       "    <tr>\n",
       "      <th>24</th>\n",
       "      <td>32</td>\n",
       "      <td>https://www.leafly.com/hybrid/92-og</td>\n",
       "    </tr>\n",
       "    <tr>\n",
       "      <th>25</th>\n",
       "      <td>33</td>\n",
       "      <td>https://www.leafly.com/indica/999</td>\n",
       "    </tr>\n",
       "    <tr>\n",
       "      <th>26</th>\n",
       "      <td>34</td>\n",
       "      <td>https://www.leafly.com/indica/a-10</td>\n",
       "    </tr>\n",
       "    <tr>\n",
       "      <th>27</th>\n",
       "      <td>35</td>\n",
       "      <td>https://www.leafly.com/hybrid/a-dub</td>\n",
       "    </tr>\n",
       "    <tr>\n",
       "      <th>28</th>\n",
       "      <td>36</td>\n",
       "      <td>https://www.leafly.com/hybrid/a-train</td>\n",
       "    </tr>\n",
       "    <tr>\n",
       "      <th>29</th>\n",
       "      <td>37</td>\n",
       "      <td>https://www.leafly.com/hybrid/acdc</td>\n",
       "    </tr>\n",
       "    <tr>\n",
       "      <th>...</th>\n",
       "      <td>...</td>\n",
       "      <td>...</td>\n",
       "    </tr>\n",
       "    <tr>\n",
       "      <th>2933</th>\n",
       "      <td>3422</td>\n",
       "      <td>https://www.leafly.com/indica/xxx-og</td>\n",
       "    </tr>\n",
       "    <tr>\n",
       "      <th>2934</th>\n",
       "      <td>3423</td>\n",
       "      <td>https://www.leafly.com/sativa/xanadu</td>\n",
       "    </tr>\n",
       "    <tr>\n",
       "      <th>2935</th>\n",
       "      <td>3432</td>\n",
       "      <td>https://www.leafly.com/sativa/y-griega</td>\n",
       "    </tr>\n",
       "    <tr>\n",
       "      <th>2936</th>\n",
       "      <td>3433</td>\n",
       "      <td>https://www.leafly.com/hybrid/yem-og</td>\n",
       "    </tr>\n",
       "    <tr>\n",
       "      <th>2937</th>\n",
       "      <td>3434</td>\n",
       "      <td>https://www.leafly.com/indica/yeti-og</td>\n",
       "    </tr>\n",
       "    <tr>\n",
       "      <th>2938</th>\n",
       "      <td>3435</td>\n",
       "      <td>https://www.leafly.com/indica/yoda-og</td>\n",
       "    </tr>\n",
       "    <tr>\n",
       "      <th>2939</th>\n",
       "      <td>3436</td>\n",
       "      <td>https://www.leafly.com/indica/yodas-brain</td>\n",
       "    </tr>\n",
       "    <tr>\n",
       "      <th>2940</th>\n",
       "      <td>3437</td>\n",
       "      <td>https://www.leafly.com/hybrid/yogi-diesel</td>\n",
       "    </tr>\n",
       "    <tr>\n",
       "      <th>2941</th>\n",
       "      <td>3438</td>\n",
       "      <td>https://www.leafly.com/indica/yolo-berry</td>\n",
       "    </tr>\n",
       "    <tr>\n",
       "      <th>2942</th>\n",
       "      <td>3439</td>\n",
       "      <td>https://www.leafly.com/indica/yumboldt</td>\n",
       "    </tr>\n",
       "    <tr>\n",
       "      <th>2943</th>\n",
       "      <td>3440</td>\n",
       "      <td>https://www.leafly.com/hybrid/yummy</td>\n",
       "    </tr>\n",
       "    <tr>\n",
       "      <th>2944</th>\n",
       "      <td>3441</td>\n",
       "      <td>https://www.leafly.com/sativa/zamaldelica</td>\n",
       "    </tr>\n",
       "    <tr>\n",
       "      <th>2945</th>\n",
       "      <td>3442</td>\n",
       "      <td>https://www.leafly.com/hybrid/zardde-gold</td>\n",
       "    </tr>\n",
       "    <tr>\n",
       "      <th>2946</th>\n",
       "      <td>3443</td>\n",
       "      <td>https://www.leafly.com/hybrid/zeitgeist</td>\n",
       "    </tr>\n",
       "    <tr>\n",
       "      <th>2947</th>\n",
       "      <td>3444</td>\n",
       "      <td>https://www.leafly.com/hybrid/zelda</td>\n",
       "    </tr>\n",
       "    <tr>\n",
       "      <th>2948</th>\n",
       "      <td>3445</td>\n",
       "      <td>https://www.leafly.com/sativa/zellys-gift</td>\n",
       "    </tr>\n",
       "    <tr>\n",
       "      <th>2949</th>\n",
       "      <td>3446</td>\n",
       "      <td>https://www.leafly.com/hybrid/zen</td>\n",
       "    </tr>\n",
       "    <tr>\n",
       "      <th>2950</th>\n",
       "      <td>3447</td>\n",
       "      <td>https://www.leafly.com/hybrid/zerculese</td>\n",
       "    </tr>\n",
       "    <tr>\n",
       "      <th>2951</th>\n",
       "      <td>3448</td>\n",
       "      <td>https://www.leafly.com/sativa/zeta-sage</td>\n",
       "    </tr>\n",
       "    <tr>\n",
       "      <th>2952</th>\n",
       "      <td>3449</td>\n",
       "      <td>https://www.leafly.com/hybrid/zeus-og</td>\n",
       "    </tr>\n",
       "    <tr>\n",
       "      <th>2953</th>\n",
       "      <td>3450</td>\n",
       "      <td>https://www.leafly.com/indica/zkittlez</td>\n",
       "    </tr>\n",
       "    <tr>\n",
       "      <th>2954</th>\n",
       "      <td>3451</td>\n",
       "      <td>https://www.leafly.com/indica/zombie-kush</td>\n",
       "    </tr>\n",
       "    <tr>\n",
       "      <th>2955</th>\n",
       "      <td>3452</td>\n",
       "      <td>https://www.leafly.com/indica/zombie-og</td>\n",
       "    </tr>\n",
       "    <tr>\n",
       "      <th>2956</th>\n",
       "      <td>3453</td>\n",
       "      <td>https://www.leafly.com/indica/zoom-pie</td>\n",
       "    </tr>\n",
       "    <tr>\n",
       "      <th>2957</th>\n",
       "      <td>3454</td>\n",
       "      <td>https://www.leafly.com/hybrid/hai-fantasy</td>\n",
       "    </tr>\n",
       "    <tr>\n",
       "      <th>2958</th>\n",
       "      <td>3455</td>\n",
       "      <td>https://www.leafly.com/hybrid/test1</td>\n",
       "    </tr>\n",
       "    <tr>\n",
       "      <th>2959</th>\n",
       "      <td>3456</td>\n",
       "      <td>https://www.leafly.com/indica/a4de22ba-0b77-4a...</td>\n",
       "    </tr>\n",
       "    <tr>\n",
       "      <th>2960</th>\n",
       "      <td>3457</td>\n",
       "      <td>https://www.leafly.com/hybrid/test1-f4c2596aa9...</td>\n",
       "    </tr>\n",
       "    <tr>\n",
       "      <th>2961</th>\n",
       "      <td>3458</td>\n",
       "      <td>https://www.leafly.com/hybrid/alenuihaha</td>\n",
       "    </tr>\n",
       "    <tr>\n",
       "      <th>2962</th>\n",
       "      <td>3459</td>\n",
       "      <td>https://www.leafly.com/strain/details</td>\n",
       "    </tr>\n",
       "  </tbody>\n",
       "</table>\n",
       "<p>2963 rows × 2 columns</p>\n",
       "</div>"
      ],
      "text/plain": [
       "      index                                                url\n",
       "0         0               https://www.leafly.com/hybrid/100-og\n",
       "1         1       https://www.leafly.com/hybrid/98-white-widow\n",
       "2         2                 https://www.leafly.com/sativa/1024\n",
       "3         3           https://www.leafly.com/hybrid/12-year-og\n",
       "4         4             https://www.leafly.com/hybrid/13-dawgs\n",
       "5         5                   https://www.leafly.com/hybrid/22\n",
       "6         6             https://www.leafly.com/hybrid/24k-gold\n",
       "7         7           https://www.leafly.com/indica/3-bears-og\n",
       "8        16              https://www.leafly.com/hybrid/3-kings\n",
       "9        17               https://www.leafly.com/indica/303-og\n",
       "10       18               https://www.leafly.com/sativa/3d-cbd\n",
       "11       19             https://www.leafly.com/indica/3x-crazy\n",
       "12       20  https://www.leafly.com/hybrid/3rd-coast-panama...\n",
       "13       21             https://www.leafly.com/hybrid/501st-og\n",
       "14       22             https://www.leafly.com/hybrid/541-kush\n",
       "15       23          https://www.leafly.com/indica/5th-element\n",
       "16       24         https://www.leafly.com/hybrid/707-headband\n",
       "17       25        https://www.leafly.com/hybrid/707-truthband\n",
       "18       26          https://www.leafly.com/indica/8-ball-kush\n",
       "19       27               https://www.leafly.com/indica/818-og\n",
       "20       28               https://www.leafly.com/indica/831-og\n",
       "21       29                  https://www.leafly.com/hybrid/840\n",
       "22       30       https://www.leafly.com/indica/9-pound-hammer\n",
       "23       31             https://www.leafly.com/indica/91-krypt\n",
       "24       32                https://www.leafly.com/hybrid/92-og\n",
       "25       33                  https://www.leafly.com/indica/999\n",
       "26       34                 https://www.leafly.com/indica/a-10\n",
       "27       35                https://www.leafly.com/hybrid/a-dub\n",
       "28       36              https://www.leafly.com/hybrid/a-train\n",
       "29       37                 https://www.leafly.com/hybrid/acdc\n",
       "...     ...                                                ...\n",
       "2933   3422               https://www.leafly.com/indica/xxx-og\n",
       "2934   3423               https://www.leafly.com/sativa/xanadu\n",
       "2935   3432             https://www.leafly.com/sativa/y-griega\n",
       "2936   3433               https://www.leafly.com/hybrid/yem-og\n",
       "2937   3434              https://www.leafly.com/indica/yeti-og\n",
       "2938   3435              https://www.leafly.com/indica/yoda-og\n",
       "2939   3436          https://www.leafly.com/indica/yodas-brain\n",
       "2940   3437          https://www.leafly.com/hybrid/yogi-diesel\n",
       "2941   3438           https://www.leafly.com/indica/yolo-berry\n",
       "2942   3439             https://www.leafly.com/indica/yumboldt\n",
       "2943   3440                https://www.leafly.com/hybrid/yummy\n",
       "2944   3441          https://www.leafly.com/sativa/zamaldelica\n",
       "2945   3442          https://www.leafly.com/hybrid/zardde-gold\n",
       "2946   3443            https://www.leafly.com/hybrid/zeitgeist\n",
       "2947   3444                https://www.leafly.com/hybrid/zelda\n",
       "2948   3445          https://www.leafly.com/sativa/zellys-gift\n",
       "2949   3446                  https://www.leafly.com/hybrid/zen\n",
       "2950   3447            https://www.leafly.com/hybrid/zerculese\n",
       "2951   3448            https://www.leafly.com/sativa/zeta-sage\n",
       "2952   3449              https://www.leafly.com/hybrid/zeus-og\n",
       "2953   3450             https://www.leafly.com/indica/zkittlez\n",
       "2954   3451          https://www.leafly.com/indica/zombie-kush\n",
       "2955   3452            https://www.leafly.com/indica/zombie-og\n",
       "2956   3453             https://www.leafly.com/indica/zoom-pie\n",
       "2957   3454          https://www.leafly.com/hybrid/hai-fantasy\n",
       "2958   3455                https://www.leafly.com/hybrid/test1\n",
       "2959   3456  https://www.leafly.com/indica/a4de22ba-0b77-4a...\n",
       "2960   3457  https://www.leafly.com/hybrid/test1-f4c2596aa9...\n",
       "2961   3458           https://www.leafly.com/hybrid/alenuihaha\n",
       "2962   3459              https://www.leafly.com/strain/details\n",
       "\n",
       "[2963 rows x 2 columns]"
      ]
     },
     "execution_count": 57,
     "metadata": {},
     "output_type": "execute_result"
    }
   ],
   "source": [
    "url_df.reset_index()"
   ]
  },
  {
   "cell_type": "code",
   "execution_count": null,
   "metadata": {},
   "outputs": [],
   "source": [
    "#scrape individual strain page (100 og)\n",
    "\n",
    "for url in final_web_list:\n",
    "    ind_page_url = url\n",
    "    html = requests.get(ind_page_url).text\n",
    "    soup = BeautifulSoup(html,'html.parser')"
   ]
  },
  {
   "cell_type": "code",
   "execution_count": 59,
   "metadata": {},
   "outputs": [],
   "source": [
    "#scrape first 100 individual strain pages\n",
    "\n",
    "# urls = ['https://www.leafly.com/hybrid/100-og',\n",
    "#  'https://www.leafly.com/hybrid/98-white-widow']\n",
    "\n",
    "soups = []\n",
    "\n",
    "for url in urls_to_100:\n",
    "    html = requests.get(url).text\n",
    "    soup = BeautifulSoup(html,'html.parser')\n",
    "    soups.append(soup)"
   ]
  },
  {
   "cell_type": "code",
   "execution_count": 153,
   "metadata": {},
   "outputs": [],
   "source": [
    "urls_to_200 = urls_df['url'][:200]\n",
    "urls_to_400 = urls_df['url'][200:400]\n",
    "urls_to_600 = urls_df['url'][400:600]\n",
    "urls_to_800 = urls_df['url'][600:800]\n",
    "urls_to_1000 = urls_df['url'][800:1000]\n",
    "urls_to_1200 = urls_df['url'][1000:1200]\n",
    "urls_to_1400 = urls_df['url'][1200:1400]\n",
    "urls_to_1600 = urls_df['url'][1400:1600]\n",
    "urls_to_1800 = urls_df['url'][1600:1800]\n",
    "urls_to_2000 = urls_df['url'][1800:2000]\n",
    "urls_to_2200 = urls_df['url'][2000:2200]\n",
    "urls_to_2400 = urls_df['url'][2200:2400]\n",
    "urls_to_2600 = urls_df['url'][2400:2600]\n",
    "urls_to_2800 = urls_df['url'][2600:2800]\n",
    "urls_to_3000 = urls_df['url'][2800:3000]\n",
    "urls_to_3200 = urls_df['url'][3000:3200]\n",
    "urls_to_3400 = urls_df['url'][3200:3400]\n",
    "urls_to_3600 = urls_df['url'][3400:]\n",
    "# urls_to_1900 = urls_df['url'][1800:1900]\n",
    "# urls_to_2000 = urls_df['url'][1900:2000]\n",
    "# urls_to_2100 = urls_df['url'][2000:2100]\n",
    "# urls_to_2200 = urls_df['url'][2100:2200]\n",
    "# urls_to_2300 = urls_df['url'][2200:2300]\n",
    "# urls_to_2400 = urls_df['url'][2300:2400]\n",
    "# urls_to_2500 = urls_df['url'][2400:2500]\n",
    "# urls_to_2600 = urls_df['url'][2500:2600]\n",
    "# urls_to_2700 = urls_df['url'][2600:2700]\n",
    "# urls_to_2800 = urls_df['url'][2700:2800]\n",
    "# urls_to_2900 = urls_df['url'][2800:2900]\n",
    "# urls_to_3000 = urls_df['url'][2900:3000]\n",
    "# urls_to_3100 = urls_df['url'][3000:3100]\n",
    "# urls_to_3200 = urls_df['url'][3100:3200]\n",
    "# urls_to_3300 = urls_df['url'][3200:3300]\n",
    "# urls_to_3400 = urls_df['url'][3300:3400]\n",
    "# urls_to_3500 = urls_df['url'][3400:]"
   ]
  },
  {
   "cell_type": "code",
   "execution_count": 152,
   "metadata": {},
   "outputs": [],
   "source": [
    "effect = []\n",
    "no_effects = []\n",
    "\n",
    "filename1 = \"effect_to_200.csv\"\n",
    "filename2 = \"no_effect_to_200.csv\"\n",
    "#csv_writer = csv.writer(open(filename, 'w'))\n",
    "\n",
    "for i in range(0, len(soups)):\n",
    "    names = []\n",
    "    cont = soups[i].find(\"a\",{\"class\":\"active\"})  \n",
    "    names.append(cont)\n",
    "    try:\n",
    "        for name in names:\n",
    "            strain_name = name.get('href')\n",
    "        div = soups[i].find('div', {'id': 'effects-tab-content'})\n",
    "        first_child = div.findChildren('div', {'class': 'histogram-item-wrapper'})\n",
    "        for child in first_child:\n",
    "            effect.append([strain_name, child.text]) \n",
    "    except:\n",
    "        no_effects.append(strain_name)\n",
    "        \n",
    "# if effect:\n",
    "#     csv_writer.writerow(effect)\n",
    "\n",
    "df_200_eff = pd.DataFrame(effect)\n",
    "df_200_eff.to_csv(filename1)\n",
    "\n",
    "df_200_no_eff = pd.DataFrame(no_effects)\n",
    "df_200_no_eff.to_csv(filename2)\n",
    "\n",
    "med = []\n",
    "no_med = []\n",
    "\n",
    "filename3 = \"med_to_200.csv\"\n",
    "filename4 = \"no_med_to_200.csv\"\n",
    "\n",
    "for i in range(0, len(soups)):\n",
    "    names = []\n",
    "    cont = soups[i].find(\"a\",{\"class\":\"active\"})  \n",
    "    names.append(cont)\n",
    "    try:\n",
    "        for name in names:\n",
    "            strain_name = name.get('href')\n",
    "        div = soups[i].find('div', {'id': 'medical-tab-content'})\n",
    "        first_child = div.findChildren('div', {'class': 'histogram-item-wrapper'})\n",
    "        for child in first_child:\n",
    "            med.append([strain_name, child.text])  \n",
    "    except:\n",
    "        no_med.append(strain_name)\n",
    "\n",
    "df_200_med = pd.DataFrame(med)\n",
    "df_200_med.to_csv(filename3) \n",
    "\n",
    "df_200_no_med = pd.DataFrame(no_med)\n",
    "df_200_no_med.to_csv(filename4)\n",
    "        \n",
    "\n",
    "neg = []\n",
    "no_neg = []\n",
    "\n",
    "filename5 = \"neg_to_200.csv\"\n",
    "filename6 = \"no_neg_to_200.csv\"\n",
    "        \n",
    "for i in range(0, len(soups)): \n",
    "    names = []\n",
    "    cont = soups[i].find(\"a\",{\"class\":\"active\"})  \n",
    "    names.append(cont)\n",
    "    try:\n",
    "        for name in names:\n",
    "            strain_name = name.get('href')\n",
    "        div = soups[i].find('div', {'id': 'negatives-tab-content'})\n",
    "        first_child = div.findChildren('div', {'class': 'histogram-item-wrapper'})\n",
    "        for child in first_child:\n",
    "            neg.append([strain_name, child.text]) \n",
    "    except:\n",
    "        no_neg.append(strain_name)\n",
    "\n",
    "\n",
    "df_200_neg = pd.DataFrame(neg)\n",
    "df_200_neg.to_csv(filename5)\n",
    "\n",
    "df_200_no_neg = pd.DataFrame(no_neg)\n",
    "df_200_no_neg.to_csv(filename6)"
   ]
  },
  {
   "cell_type": "code",
   "execution_count": 73,
   "metadata": {},
   "outputs": [],
   "source": [
    "#scrape 100-200 individual strain pages\n",
    "\n",
    "soups_to_200 = []\n",
    "\n",
    "for url in urls_to_200:\n",
    "    html = requests.get(url).text\n",
    "    soup = BeautifulSoup(html,'html.parser')\n",
    "    soups.append(soup)"
   ]
  },
  {
   "cell_type": "code",
   "execution_count": null,
   "metadata": {},
   "outputs": [],
   "source": [
    "#scrape 100-200 individual strain pages\n",
    "\n",
    "soups_to_200 = []\n",
    "\n",
    "for url in urls_to_200:\n",
    "    html = requests.get(url).text\n",
    "    soup = BeautifulSoup(html,'html.parser')\n",
    "    soups.append(soup)"
   ]
  },
  {
   "cell_type": "code",
   "execution_count": null,
   "metadata": {},
   "outputs": [],
   "source": []
  },
  {
   "cell_type": "code",
   "execution_count": null,
   "metadata": {},
   "outputs": [],
   "source": []
  },
  {
   "cell_type": "code",
   "execution_count": null,
   "metadata": {},
   "outputs": [],
   "source": []
  },
  {
   "cell_type": "code",
   "execution_count": null,
   "metadata": {},
   "outputs": [],
   "source": []
  },
  {
   "cell_type": "code",
   "execution_count": null,
   "metadata": {},
   "outputs": [],
   "source": []
  },
  {
   "cell_type": "code",
   "execution_count": null,
   "metadata": {},
   "outputs": [],
   "source": []
  },
  {
   "cell_type": "code",
   "execution_count": null,
   "metadata": {},
   "outputs": [],
   "source": []
  },
  {
   "cell_type": "code",
   "execution_count": null,
   "metadata": {},
   "outputs": [],
   "source": []
  },
  {
   "cell_type": "code",
   "execution_count": null,
   "metadata": {},
   "outputs": [],
   "source": []
  },
  {
   "cell_type": "code",
   "execution_count": null,
   "metadata": {},
   "outputs": [],
   "source": []
  },
  {
   "cell_type": "code",
   "execution_count": null,
   "metadata": {},
   "outputs": [],
   "source": []
  },
  {
   "cell_type": "code",
   "execution_count": null,
   "metadata": {},
   "outputs": [],
   "source": []
  },
  {
   "cell_type": "code",
   "execution_count": null,
   "metadata": {},
   "outputs": [],
   "source": []
  },
  {
   "cell_type": "code",
   "execution_count": null,
   "metadata": {},
   "outputs": [],
   "source": []
  },
  {
   "cell_type": "code",
   "execution_count": null,
   "metadata": {},
   "outputs": [],
   "source": []
  },
  {
   "cell_type": "code",
   "execution_count": null,
   "metadata": {},
   "outputs": [],
   "source": []
  },
  {
   "cell_type": "code",
   "execution_count": null,
   "metadata": {},
   "outputs": [],
   "source": []
  },
  {
   "cell_type": "code",
   "execution_count": null,
   "metadata": {},
   "outputs": [],
   "source": []
  },
  {
   "cell_type": "code",
   "execution_count": null,
   "metadata": {},
   "outputs": [],
   "source": []
  },
  {
   "cell_type": "code",
   "execution_count": null,
   "metadata": {},
   "outputs": [],
   "source": []
  },
  {
   "cell_type": "code",
   "execution_count": null,
   "metadata": {},
   "outputs": [],
   "source": []
  },
  {
   "cell_type": "code",
   "execution_count": null,
   "metadata": {},
   "outputs": [],
   "source": []
  },
  {
   "cell_type": "code",
   "execution_count": null,
   "metadata": {},
   "outputs": [],
   "source": []
  },
  {
   "cell_type": "code",
   "execution_count": null,
   "metadata": {},
   "outputs": [],
   "source": []
  },
  {
   "cell_type": "code",
   "execution_count": null,
   "metadata": {},
   "outputs": [],
   "source": []
  },
  {
   "cell_type": "code",
   "execution_count": null,
   "metadata": {},
   "outputs": [],
   "source": []
  },
  {
   "cell_type": "code",
   "execution_count": null,
   "metadata": {},
   "outputs": [],
   "source": []
  },
  {
   "cell_type": "code",
   "execution_count": null,
   "metadata": {},
   "outputs": [],
   "source": []
  },
  {
   "cell_type": "code",
   "execution_count": null,
   "metadata": {},
   "outputs": [],
   "source": []
  },
  {
   "cell_type": "code",
   "execution_count": null,
   "metadata": {},
   "outputs": [],
   "source": []
  },
  {
   "cell_type": "code",
   "execution_count": null,
   "metadata": {},
   "outputs": [],
   "source": []
  },
  {
   "cell_type": "code",
   "execution_count": null,
   "metadata": {},
   "outputs": [],
   "source": []
  },
  {
   "cell_type": "code",
   "execution_count": null,
   "metadata": {},
   "outputs": [],
   "source": []
  },
  {
   "cell_type": "code",
   "execution_count": null,
   "metadata": {},
   "outputs": [],
   "source": []
  },
  {
   "cell_type": "code",
   "execution_count": null,
   "metadata": {},
   "outputs": [],
   "source": []
  },
  {
   "cell_type": "code",
   "execution_count": null,
   "metadata": {},
   "outputs": [],
   "source": []
  },
  {
   "cell_type": "code",
   "execution_count": null,
   "metadata": {},
   "outputs": [],
   "source": []
  }
 ],
 "metadata": {
  "kernelspec": {
   "display_name": "Python 3",
   "language": "python",
   "name": "python3"
  },
  "language_info": {
   "codemirror_mode": {
    "name": "ipython",
    "version": 3
   },
   "file_extension": ".py",
   "mimetype": "text/x-python",
   "name": "python",
   "nbconvert_exporter": "python",
   "pygments_lexer": "ipython3",
   "version": "3.7.3"
  }
 },
 "nbformat": 4,
 "nbformat_minor": 2
}
