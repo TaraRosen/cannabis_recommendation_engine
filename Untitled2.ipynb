{
 "cells": [
  {
   "cell_type": "code",
   "execution_count": 3,
   "metadata": {},
   "outputs": [],
   "source": [
    "import requests as re\n",
    "import tkinter as tk\n",
    "from tkinter import font"
   ]
  },
  {
   "cell_type": "code",
   "execution_count": 9,
   "metadata": {},
   "outputs": [
    {
     "name": "stdout",
     "output_type": "stream",
     "text": [
      "This is the entry: \n"
     ]
    }
   ],
   "source": [
    "root = tk.Tk()\n",
    "\n",
    "HEIGHT = 400\n",
    "WIDTH = 600\n",
    "\n",
    "def test_function(entry):\n",
    "    print('This is the entry:', entry)\n",
    "\n",
    "canvas = tk.Canvas(root, height = HEIGHT, width = WIDTH)\n",
    "canvas.pack()\n",
    "\n",
    "# background_image = tk.PhotoImage(file = 'leaf_shot1.png')\n",
    "# background_label = tk.Label(root, image = background_image)\n",
    "# background_label.place(relwidth = 1, relheight = 1)\n",
    "\n",
    "frame = tk.Frame(root, bg = '#3fa540', bd = 5)\n",
    "frame.place(relx = 0.5, rely = 0.1, relwidth = 0.75, relheight = 0.1, anchor = 'n')\n",
    "\n",
    "entry = tk.Entry(frame, font = 40)\n",
    "entry.place(relwidth = 0.65, relheight = 1)\n",
    "\n",
    "button = tk.Button(frame, text = 'Find Alternative', font = 40, command = lambda: test_function(entry.get()))\n",
    "button.place(relx = 0.7, relheight = 1, relwidth = 0.3)\n",
    "\n",
    "\n",
    "lower_frame = tk.Frame(root, bg = '#3fa540', bd = 10)\n",
    "lower_frame.place(relx = 0.5, rely = 0.25, relwidth = 0.75, relheight = 0.6, anchor = 'n')\n",
    "\n",
    "label = tk.Label(lower_frame)\n",
    "label.place(relwidth = 1, relheight = 1)\n",
    "\n",
    "\n",
    "\n",
    "\n",
    "root.mainloop()"
   ]
  },
  {
   "cell_type": "code",
   "execution_count": null,
   "metadata": {},
   "outputs": [],
   "source": []
  }
 ],
 "metadata": {
  "kernelspec": {
   "display_name": "Python 3",
   "language": "python",
   "name": "python3"
  },
  "language_info": {
   "codemirror_mode": {
    "name": "ipython",
    "version": 3
   },
   "file_extension": ".py",
   "mimetype": "text/x-python",
   "name": "python",
   "nbconvert_exporter": "python",
   "pygments_lexer": "ipython3",
   "version": "3.7.3"
  }
 },
 "nbformat": 4,
 "nbformat_minor": 2
}
