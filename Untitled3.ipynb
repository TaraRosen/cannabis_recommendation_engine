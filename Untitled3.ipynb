{
 "cells": [
  {
   "cell_type": "code",
   "execution_count": 1,
   "metadata": {},
   "outputs": [
    {
     "name": "stdout",
     "output_type": "stream",
     "text": [
      "Collecting Django\n",
      "\u001b[?25l  Downloading https://files.pythonhosted.org/packages/39/b0/2138c31bf13e17afc32277239da53e9dfcce27bac8cb68cf1c0123f1fdf5/Django-2.2.3-py3-none-any.whl (7.5MB)\n",
      "\u001b[K    100% |████████████████████████████████| 7.5MB 2.5MB/s ta 0:00:011    97% |███████████████████████████████ | 7.2MB 9.3MB/s eta 0:00:01\n",
      "\u001b[?25hCollecting sqlparse (from Django)\n",
      "  Downloading https://files.pythonhosted.org/packages/ef/53/900f7d2a54557c6a37886585a91336520e5539e3ae2423ff1102daf4f3a7/sqlparse-0.3.0-py2.py3-none-any.whl\n",
      "Requirement already satisfied: pytz in /anaconda3/lib/python3.7/site-packages (from Django) (2018.9)\n",
      "Installing collected packages: sqlparse, Django\n",
      "Successfully installed Django-2.2.3 sqlparse-0.3.0\n",
      "Collecting django-imagekit\n",
      "\u001b[?25l  Downloading https://files.pythonhosted.org/packages/e5/2a/a5c62376e897c23d1ce21be86c18e68096cb8c83df7d010d24ca81139e9e/django_imagekit-4.0.2-py2.py3-none-any.whl (47kB)\n",
      "\u001b[K    100% |████████████████████████████████| 51kB 1.1MB/s ta 0:00:01\n",
      "\u001b[?25hCollecting django-appconf>=0.5 (from django-imagekit)\n",
      "  Downloading https://files.pythonhosted.org/packages/f6/b3/fcec63afcf323581c4919f21e90ef8c8200034108a6a0ab47a6bf6a9327b/django_appconf-1.0.3-py2.py3-none-any.whl\n",
      "Collecting pilkit>=0.2.0 (from django-imagekit)\n",
      "\u001b[?25l  Downloading https://files.pythonhosted.org/packages/c4/5c/318d9c20f309e6a79ea4d4605f86597d05f3e007d3d1925ff02474808659/pilkit-2.0.tar.gz (161kB)\n",
      "\u001b[K    100% |████████████████████████████████| 163kB 3.5MB/s ta 0:00:01\n",
      "\u001b[?25hRequirement already satisfied: six in /anaconda3/lib/python3.7/site-packages (from django-imagekit) (1.12.0)\n",
      "Requirement already satisfied: django in /anaconda3/lib/python3.7/site-packages (from django-appconf>=0.5->django-imagekit) (2.2.3)\n",
      "Requirement already satisfied: pytz in /anaconda3/lib/python3.7/site-packages (from django->django-appconf>=0.5->django-imagekit) (2018.9)\n",
      "Requirement already satisfied: sqlparse in /anaconda3/lib/python3.7/site-packages (from django->django-appconf>=0.5->django-imagekit) (0.3.0)\n",
      "Building wheels for collected packages: pilkit\n",
      "  Building wheel for pilkit (setup.py) ... \u001b[?25ldone\n",
      "\u001b[?25h  Stored in directory: /Users/tararosen/Library/Caches/pip/wheels/83/87/b9/db03ec06109a48529da8ba6315550ec177c6d749f50bd85932\n",
      "Successfully built pilkit\n",
      "Installing collected packages: django-appconf, pilkit, django-imagekit\n",
      "Successfully installed django-appconf-1.0.3 django-imagekit-4.0.2 pilkit-2.0\n"
     ]
    }
   ],
   "source": [
    "!pip install Django\n",
    "!pip install django-imagekit"
   ]
  },
  {
   "cell_type": "code",
   "execution_count": 2,
   "metadata": {},
   "outputs": [],
   "source": [
    "import django"
   ]
  },
  {
   "cell_type": "code",
   "execution_count": 3,
   "metadata": {},
   "outputs": [
    {
     "data": {
      "text/plain": [
       "<module 'django' from '/anaconda3/lib/python3.7/site-packages/django/__init__.py'>"
      ]
     },
     "execution_count": 3,
     "metadata": {},
     "output_type": "execute_result"
    }
   ],
   "source": [
    "django"
   ]
  },
  {
   "cell_type": "code",
   "execution_count": 7,
   "metadata": {},
   "outputs": [
    {
     "data": {
      "text/plain": [
       "['/anaconda3/lib/python3.7/site-packages/django/contrib/admin']"
      ]
     },
     "execution_count": 7,
     "metadata": {},
     "output_type": "execute_result"
    }
   ],
   "source": [
    "from django.contrib import admin\n",
    "admin.__path__"
   ]
  },
  {
   "cell_type": "code",
   "execution_count": null,
   "metadata": {},
   "outputs": [],
   "source": []
  }
 ],
 "metadata": {
  "kernelspec": {
   "display_name": "Python 3",
   "language": "python",
   "name": "python3"
  },
  "language_info": {
   "codemirror_mode": {
    "name": "ipython",
    "version": 3
   },
   "file_extension": ".py",
   "mimetype": "text/x-python",
   "name": "python",
   "nbconvert_exporter": "python",
   "pygments_lexer": "ipython3",
   "version": "3.7.3"
  }
 },
 "nbformat": 4,
 "nbformat_minor": 2
}
